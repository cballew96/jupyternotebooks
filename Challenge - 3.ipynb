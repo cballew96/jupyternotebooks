{
 "cells": [
  {
   "cell_type": "code",
   "execution_count": 38,
   "id": "b7d527c4-b4f2-4795-bd9e-a748178657ad",
   "metadata": {},
   "outputs": [
    {
     "name": "stdout",
     "output_type": "stream",
     "text": [
      "+-------+--------------------+--------+------+-------------------+--------------------+-------------+-----+-----+\n",
      "|OrderID|             Product|Quantity| Price|          OrderDate|        StoreAddress|         City|State|Month|\n",
      "+-------+--------------------+--------+------+-------------------+--------------------+-------------+-----+-----+\n",
      "| 295665|  Macbook Pro Laptop|       1|1700.0|2019-12-30 00:01:00|136 Church St, Ne...|New York City|  NY |   12|\n",
      "| 295666|  LG Washing Machine|       1| 600.0|2019-12-29 07:03:00|562 2nd St, New Y...|New York City|  NY |   12|\n",
      "| 295667|USB-C Charging Cable|       1| 11.95|2019-12-12 18:21:00|277 Main St, New ...|New York City|  NY |   12|\n",
      "| 295668|    27in FHD Monitor|       1|149.99|2019-12-22 15:13:00|410 6th St, San F...|San Francisco|  CA |   12|\n",
      "| 295669|USB-C Charging Cable|       1| 11.95|2019-12-18 12:38:00|43 Hill St, Atlan...|      Atlanta|  GA |   12|\n",
      "| 295670|AA Batteries (4-p...|       1|  3.84|2019-12-31 22:58:00|200 Jefferson St,...|New York City|  NY |   12|\n",
      "| 295671|USB-C Charging Cable|       1| 11.95|2019-12-16 15:10:00|928 12th St, Port...|     Portland|  OR |   12|\n",
      "| 295672|USB-C Charging Cable|       2| 11.95|2019-12-13 09:29:00|813 Hickory St, D...|       Dallas|  TX |   12|\n",
      "| 295673|Bose SoundSport H...|       1| 99.99|2019-12-15 23:26:00|718 Wilson St, Da...|       Dallas|  TX |   12|\n",
      "| 295674|AAA Batteries (4-...|       4|  2.99|2019-12-28 11:51:00|77 7th St, Dallas...|       Dallas|  TX |   12|\n",
      "| 295675|USB-C Charging Cable|       2| 11.95|2019-12-13 13:52:00|594 1st St, San F...|San Francisco|  CA |   12|\n",
      "| 295676|     ThinkPad Laptop|       1|999.99|2019-12-28 17:19:00|410 Lincoln St, L...|  Los Angeles|  CA |   12|\n",
      "| 295677|AA Batteries (4-p...|       2|  3.84|2019-12-20 19:19:00|866 Pine St, Bost...|       Boston|  MA |   12|\n",
      "| 295678|AAA Batteries (4-...|       2|  2.99|2019-12-06 09:38:00|187 Lincoln St, D...|       Dallas|  TX |   12|\n",
      "| 295679|USB-C Charging Cable|       1| 11.95|2019-12-25 09:39:00|902 2nd St, Dalla...|       Dallas|  TX |   12|\n",
      "| 295680|Lightning Chargin...|       1| 14.95|2019-12-01 14:30:00|338 Main St, Aust...|       Austin|  TX |   12|\n",
      "| 295681|        Google Phone|       1| 600.0|2019-12-25 12:37:00|79 Elm St, Boston...|       Boston|  MA |   12|\n",
      "| 295681|USB-C Charging Cable|       1| 11.95|2019-12-25 12:37:00|79 Elm St, Boston...|       Boston|  MA |   12|\n",
      "| 295681|Bose SoundSport H...|       1| 99.99|2019-12-25 12:37:00|79 Elm St, Boston...|       Boston|  MA |   12|\n",
      "| 295681|    Wired Headphones|       1| 11.99|2019-12-25 12:37:00|79 Elm St, Boston...|       Boston|  MA |   12|\n",
      "+-------+--------------------+--------+------+-------------------+--------------------+-------------+-----+-----+\n",
      "only showing top 20 rows\n",
      "\n"
     ]
    }
   ],
   "source": [
    "from pyspark.sql import SparkSession\n",
    "from pyspark.sql.functions import col, min, max, sum, sumDistinct, avg, month, year, dayofmonth, expr, hour, collect_list, size\n",
    "import pandas as pd\n",
    "import matplotlib as plt\n",
    "import seaborn as sns\n",
    "\n",
    "\n",
    "spark = (SparkSession.builder.appName('Challenge 3').getOrCreate())\n",
    "\n",
    "sales_df = spark.read.parquet('sales.parquet/ReportYear=2019')\n",
    "sales_df.show()"
   ]
  },
  {
   "cell_type": "markdown",
   "id": "5633b50c-c853-4ef8-a10c-e321c47c2be6",
   "metadata": {},
   "source": [
    "## Best month for sales"
   ]
  },
  {
   "cell_type": "code",
   "execution_count": 2,
   "id": "82af8955-e36e-4995-a0f7-a75d8411ecec",
   "metadata": {},
   "outputs": [
    {
     "name": "stdout",
     "output_type": "stream",
     "text": [
      "+-----+------------------+\n",
      "|Month|        TotalSales|\n",
      "+-----+------------------+\n",
      "|   12|  4613443.31607008|\n",
      "|   10| 3736726.860444069|\n",
      "|    4|3390670.2231714725|\n",
      "|   11| 3199603.184257984|\n",
      "|    5|3152606.7349271774|\n",
      "|    3|2807100.3656582832|\n",
      "|    7|2647775.7468385696|\n",
      "|    6| 2577802.247295618|\n",
      "|    8|2244467.8685896397|\n",
      "|    2| 2202022.408319235|\n",
      "|    9|2097560.1194250584|\n",
      "|    1| 1813586.431374073|\n",
      "+-----+------------------+\n",
      "\n"
     ]
    }
   ],
   "source": [
    "sales_per_month_df = (sales_df.select('OrderID', 'Month', 'Price', 'Quantity', expr('Price*Quantity').alias('Sales')))\n",
    "\n",
    "sales_per_month_df = sales_per_month_df.groupBy('Month').agg(sum('Sales').alias('TotalSales')).orderBy('TotalSales', ascending=False)\n",
    "sales_per_month_df.show()"
   ]
  },
  {
   "cell_type": "markdown",
   "id": "2ac61385-f86a-4cb6-89c8-4775265cf738",
   "metadata": {},
   "source": [
    "## Quantity sold by city"
   ]
  },
  {
   "cell_type": "code",
   "execution_count": 3,
   "id": "74c21f73-9860-4212-9733-3d8021add5be",
   "metadata": {},
   "outputs": [
    {
     "name": "stdout",
     "output_type": "stream",
     "text": [
      "+-------------+-------------+\n",
      "|         City|TotalQuantity|\n",
      "+-------------+-------------+\n",
      "|San Francisco|        50226|\n",
      "|  Los Angeles|        33288|\n",
      "|New York City|        27916|\n",
      "|       Boston|        22524|\n",
      "|       Dallas|        16728|\n",
      "|      Atlanta|        16602|\n",
      "|      Seattle|        16552|\n",
      "|     Portland|        14051|\n",
      "|       Austin|        11151|\n",
      "+-------------+-------------+\n",
      "\n"
     ]
    }
   ],
   "source": [
    "quantity_by_city = (sales_df.groupBy('City').agg(sum('Quantity').alias('TotalQuantity')).orderBy('TotalQuantity', ascending=False))\n",
    "quantity_by_city.show()"
   ]
  },
  {
   "cell_type": "markdown",
   "id": "6a52eede-dac7-43f5-af5e-c90b27a982d2",
   "metadata": {
    "tags": []
   },
   "source": [
    "### What time should we display advertisements to maximize likelihood\n",
    "### of customer's buying products?"
   ]
  },
  {
   "cell_type": "code",
   "execution_count": 22,
   "id": "c1aa9a50-2a40-41be-b241-d103dd47d493",
   "metadata": {},
   "outputs": [
    {
     "name": "stdout",
     "output_type": "stream",
     "text": [
      "+---------+-------------+\n",
      "|HourOfDay|sum(Quantity)|\n",
      "+---------+-------------+\n",
      "|       19|        14470|\n",
      "|       12|        14202|\n",
      "|       11|        14005|\n",
      "|       18|        13802|\n",
      "|       20|        13768|\n",
      "|       13|        13685|\n",
      "|       14|        12362|\n",
      "|       10|        12308|\n",
      "|       21|        12244|\n",
      "|       17|        12229|\n",
      "|       16|        11662|\n",
      "|       15|        11391|\n",
      "|       22|         9899|\n",
      "|        9|         9816|\n",
      "|       23|         7065|\n",
      "|        8|         7002|\n",
      "|        7|         4556|\n",
      "|        0|         4412|\n",
      "|        6|         2810|\n",
      "|        1|         2610|\n",
      "+---------+-------------+\n",
      "only showing top 20 rows\n",
      "\n"
     ]
    }
   ],
   "source": [
    "advertisement_time_df = sales_df.withColumn(('HourOfDay'),(hour('OrderDate')))\n",
    "advertisement_time_df.groupBy('HourOfDay').agg(sum('Quantity')).orderBy('sum(Quantity)', ascending=False)\n",
    "advertisement_time_df = advertisement_time_df.groupBy('HourOfDay').agg(sum('Quantity')).orderBy('sum(Quantity)', ascending=False)\n",
    "advertisement_time_df.show()\n",
    "## hours of the day to advertise are between 18-19 hour and 11-12"
   ]
  },
  {
   "cell_type": "markdown",
   "id": "e200fde5-73b7-4b86-8328-ceed11492ea9",
   "metadata": {},
   "source": [
    "## What products are often sold together in the state of 'NY'"
   ]
  },
  {
   "cell_type": "code",
   "execution_count": 33,
   "id": "46baf9ee-7044-4e61-807c-e8c6f1b7c17a",
   "metadata": {},
   "outputs": [
    {
     "name": "stdout",
     "output_type": "stream",
     "text": [
      "+-------+--------------------+--------+------+-------------------+--------------------+-------------+-----+-----+\n",
      "|OrderID|             Product|Quantity| Price|          OrderDate|        StoreAddress|         City|State|Month|\n",
      "+-------+--------------------+--------+------+-------------------+--------------------+-------------+-----+-----+\n",
      "| 295665|  Macbook Pro Laptop|       1|1700.0|2019-12-30 00:01:00|136 Church St, Ne...|New York City|  NY |   12|\n",
      "| 295666|  LG Washing Machine|       1| 600.0|2019-12-29 07:03:00|562 2nd St, New Y...|New York City|  NY |   12|\n",
      "| 295667|USB-C Charging Cable|       1| 11.95|2019-12-12 18:21:00|277 Main St, New ...|New York City|  NY |   12|\n",
      "| 295668|    27in FHD Monitor|       1|149.99|2019-12-22 15:13:00|410 6th St, San F...|San Francisco|  CA |   12|\n",
      "| 295669|USB-C Charging Cable|       1| 11.95|2019-12-18 12:38:00|43 Hill St, Atlan...|      Atlanta|  GA |   12|\n",
      "| 295670|AA Batteries (4-p...|       1|  3.84|2019-12-31 22:58:00|200 Jefferson St,...|New York City|  NY |   12|\n",
      "| 295671|USB-C Charging Cable|       1| 11.95|2019-12-16 15:10:00|928 12th St, Port...|     Portland|  OR |   12|\n",
      "| 295672|USB-C Charging Cable|       2| 11.95|2019-12-13 09:29:00|813 Hickory St, D...|       Dallas|  TX |   12|\n",
      "| 295673|Bose SoundSport H...|       1| 99.99|2019-12-15 23:26:00|718 Wilson St, Da...|       Dallas|  TX |   12|\n",
      "| 295674|AAA Batteries (4-...|       4|  2.99|2019-12-28 11:51:00|77 7th St, Dallas...|       Dallas|  TX |   12|\n",
      "| 295675|USB-C Charging Cable|       2| 11.95|2019-12-13 13:52:00|594 1st St, San F...|San Francisco|  CA |   12|\n",
      "| 295676|     ThinkPad Laptop|       1|999.99|2019-12-28 17:19:00|410 Lincoln St, L...|  Los Angeles|  CA |   12|\n",
      "| 295677|AA Batteries (4-p...|       2|  3.84|2019-12-20 19:19:00|866 Pine St, Bost...|       Boston|  MA |   12|\n",
      "| 295678|AAA Batteries (4-...|       2|  2.99|2019-12-06 09:38:00|187 Lincoln St, D...|       Dallas|  TX |   12|\n",
      "| 295679|USB-C Charging Cable|       1| 11.95|2019-12-25 09:39:00|902 2nd St, Dalla...|       Dallas|  TX |   12|\n",
      "| 295680|Lightning Chargin...|       1| 14.95|2019-12-01 14:30:00|338 Main St, Aust...|       Austin|  TX |   12|\n",
      "| 295681|        Google Phone|       1| 600.0|2019-12-25 12:37:00|79 Elm St, Boston...|       Boston|  MA |   12|\n",
      "| 295681|USB-C Charging Cable|       1| 11.95|2019-12-25 12:37:00|79 Elm St, Boston...|       Boston|  MA |   12|\n",
      "| 295681|Bose SoundSport H...|       1| 99.99|2019-12-25 12:37:00|79 Elm St, Boston...|       Boston|  MA |   12|\n",
      "| 295681|    Wired Headphones|       1| 11.99|2019-12-25 12:37:00|79 Elm St, Boston...|       Boston|  MA |   12|\n",
      "+-------+--------------------+--------+------+-------------------+--------------------+-------------+-----+-----+\n",
      "only showing top 20 rows\n",
      "\n"
     ]
    }
   ],
   "source": [
    "sales_df.show()"
   ]
  },
  {
   "cell_type": "code",
   "execution_count": 49,
   "id": "f0467e41-4616-43bc-890a-89fab6c933ed",
   "metadata": {},
   "outputs": [
    {
     "name": "stdout",
     "output_type": "stream",
     "text": [
      "+------------------------------------------------------+-----+\n",
      "|ProductList                                           |count|\n",
      "+------------------------------------------------------+-----+\n",
      "|[Google Phone, USB-C Charging Cable]                  |127  |\n",
      "|[Lightning Charging Cable, iPhone]                    |126  |\n",
      "|[Google Phone, Wired Headphones]                      |53   |\n",
      "|[USB-C Charging Cable, Vareebadd Phone]               |50   |\n",
      "|[Wired Headphones, iPhone]                            |46   |\n",
      "|[Apple Airpods Headphones, iPhone]                    |45   |\n",
      "|[Bose SoundSport Headphones, Google Phone]            |24   |\n",
      "|[Apple Airpods Headphones, Wired Headphones]          |19   |\n",
      "|[Vareebadd Phone, Wired Headphones]                   |17   |\n",
      "|[AAA Batteries (4-pack), Lightning Charging Cable]    |16   |\n",
      "|[AA Batteries (4-pack), Lightning Charging Cable]     |16   |\n",
      "|[USB-C Charging Cable, Wired Headphones]              |14   |\n",
      "|[AA Batteries (4-pack), AAA Batteries (4-pack)]       |13   |\n",
      "|[AA Batteries (4-pack), Apple Airpods Headphones]     |13   |\n",
      "|[AAA Batteries (4-pack), Wired Headphones]            |11   |\n",
      "|[Google Phone, USB-C Charging Cable, Wired Headphones]|11   |\n",
      "|[AA Batteries (4-pack), USB-C Charging Cable]         |11   |\n",
      "|[Apple Airpods Headphones, Lightning Charging Cable]  |10   |\n",
      "|[Lightning Charging Cable, USB-C Charging Cable]      |10   |\n",
      "|[AAA Batteries (4-pack), Bose SoundSport Headphones]  |9    |\n",
      "+------------------------------------------------------+-----+\n",
      "only showing top 20 rows\n",
      "\n"
     ]
    }
   ],
   "source": [
    "sold_together_df = (sales_df.where(col('State') == 'NY ').orderBy('OrderID', 'Product').groupBy('OrderID', 'State').agg(collect_list('Product').alias('ProductList')))\n",
    "\n",
    "\n",
    "sold_together_df = sold_together_df.where(size('ProductList') > 1)\n",
    "sold_together_df = sold_together_df.groupBy('ProductList').count().orderBy('count', ascending=False)\n",
    "\n",
    "sold_together_df.show(truncate=False)"
   ]
  }
 ],
 "metadata": {
  "kernelspec": {
   "display_name": "Python 3 (ipykernel)",
   "language": "python",
   "name": "python3"
  },
  "language_info": {
   "codemirror_mode": {
    "name": "ipython",
    "version": 3
   },
   "file_extension": ".py",
   "mimetype": "text/x-python",
   "name": "python",
   "nbconvert_exporter": "python",
   "pygments_lexer": "ipython3",
   "version": "3.9.7"
  }
 },
 "nbformat": 4,
 "nbformat_minor": 5
}
