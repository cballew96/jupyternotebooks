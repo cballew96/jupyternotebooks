{
 "cells": [
  {
   "cell_type": "code",
   "execution_count": 2,
   "id": "390cb3d7-c42a-4ee5-bc98-00ffca14721c",
   "metadata": {},
   "outputs": [],
   "source": [
    "from pyspark.sql import SparkSession\n",
    "from pyspark.sql.types import StructType, StructField, StringType, IntegerType"
   ]
  },
  {
   "cell_type": "code",
   "execution_count": 3,
   "id": "f1a2855a-8ba1-4148-a023-0fc9480b1204",
   "metadata": {},
   "outputs": [],
   "source": [
    "spark = (SparkSession.builder.appName(\"Dataframe_Practice\").getOrCreate())"
   ]
  },
  {
   "cell_type": "code",
   "execution_count": 4,
   "id": "ec2ef1dd-fc50-4b2f-bf94-cb5ebd19873a",
   "metadata": {},
   "outputs": [],
   "source": [
    "data = [(\"James\", \"\", \"Smith\", \"36636\", \"M\", 3000),\n",
    "        (\"Michael\", \"Rose\", \"\", \"40288\", \"M\", 4000),\n",
    "        (\"Robert\", \"\", \"Williams\", \"42114\", \"M\", 4000),\n",
    "        (\"Maria\", \"Anne\", \"Jones\", \"39192\", \"F\", 4000),\n",
    "        (\"Jen\", \"Mary\", \"Brown\", \"\", \"F\", -1)\n",
    "       ]"
   ]
  },
  {
   "cell_type": "code",
   "execution_count": 5,
   "id": "b64b4006-c850-441a-a843-23b2edbc9a02",
   "metadata": {},
   "outputs": [],
   "source": [
    "schema = StructType([\n",
    "    StructField(\"FirstName\", StringType(), True),\n",
    "    StructField(\"MiddleName\", StringType(), True),\n",
    "    StructField(\"LastName\", StringType(), True),\n",
    "    StructField(\"ID\", StringType(), True),\n",
    "    StructField(\"Gender\", StringType(), True),\n",
    "    StructField(\"Salary\", IntegerType(), True)\n",
    "])"
   ]
  },
  {
   "cell_type": "code",
   "execution_count": 6,
   "id": "96a5cd11-56c5-49d6-8587-b6af9a4f706c",
   "metadata": {},
   "outputs": [],
   "source": [
    "df = spark.createDataFrame(data=data, schema=schema)"
   ]
  },
  {
   "cell_type": "code",
   "execution_count": 7,
   "id": "68307121-21bd-420d-9a0c-87ff70c1100e",
   "metadata": {},
   "outputs": [
    {
     "name": "stdout",
     "output_type": "stream",
     "text": [
      "root\n",
      " |-- FirstName: string (nullable = true)\n",
      " |-- MiddleName: string (nullable = true)\n",
      " |-- LastName: string (nullable = true)\n",
      " |-- ID: string (nullable = true)\n",
      " |-- Gender: string (nullable = true)\n",
      " |-- Salary: integer (nullable = true)\n",
      "\n"
     ]
    }
   ],
   "source": [
    "df.printSchema()"
   ]
  },
  {
   "cell_type": "code",
   "execution_count": 8,
   "id": "8a286e6d-80c7-4931-b48c-c6164eccdfde",
   "metadata": {},
   "outputs": [
    {
     "name": "stdout",
     "output_type": "stream",
     "text": [
      "+---------+----------+--------+-----+------+------+\n",
      "|FirstName|MiddleName|LastName|   ID|Gender|Salary|\n",
      "+---------+----------+--------+-----+------+------+\n",
      "|    James|          |   Smith|36636|     M|  3000|\n",
      "|  Michael|      Rose|        |40288|     M|  4000|\n",
      "|   Robert|          |Williams|42114|     M|  4000|\n",
      "|    Maria|      Anne|   Jones|39192|     F|  4000|\n",
      "|      Jen|      Mary|   Brown|     |     F|    -1|\n",
      "+---------+----------+--------+-----+------+------+\n",
      "\n"
     ]
    }
   ],
   "source": [
    "df.show()"
   ]
  },
  {
   "cell_type": "code",
   "execution_count": 9,
   "id": "77c7fe71-01a5-489a-ac52-3ad370cb5866",
   "metadata": {},
   "outputs": [],
   "source": [
    "filepath = './testdata/sf-fire-calls.csv'"
   ]
  },
  {
   "cell_type": "code",
   "execution_count": 10,
   "id": "d9833807-7135-4adc-9bd4-f3f75ce9e6cc",
   "metadata": {},
   "outputs": [],
   "source": [
    "fire_df = (spark.read.format('csv')\n",
    "           .option('header', True)\n",
    "           .option('inferSchema', True)\n",
    "           .load(filepath))"
   ]
  },
  {
   "cell_type": "code",
   "execution_count": 11,
   "id": "20d070f4-33c6-467d-b627-bb68d2fc3835",
   "metadata": {},
   "outputs": [
    {
     "name": "stdout",
     "output_type": "stream",
     "text": [
      "+--------------+----------+----+\n",
      "|IncidentNumber|  CallDate|City|\n",
      "+--------------+----------+----+\n",
      "|       2003235|01/11/2002|  SF|\n",
      "|       2003241|01/11/2002|  SF|\n",
      "|       2003242|01/11/2002|  SF|\n",
      "|       2003250|01/11/2002|  SF|\n",
      "|       2003259|01/11/2002|  SF|\n",
      "|       2003279|01/11/2002|  SF|\n",
      "|       2003301|01/11/2002|  SF|\n",
      "|       2003304|01/11/2002|  SF|\n",
      "|       2003343|01/11/2002|  SF|\n",
      "|       2003348|01/11/2002|  SF|\n",
      "+--------------+----------+----+\n",
      "only showing top 10 rows\n",
      "\n"
     ]
    }
   ],
   "source": [
    "fire_df.select(\"IncidentNumber\",\"CallDate\", \"City\").show(10)"
   ]
  },
  {
   "cell_type": "code",
   "execution_count": 12,
   "id": "0ccc4167-f1d8-4b46-9881-2b7374eec3a2",
   "metadata": {},
   "outputs": [],
   "source": [
    "outputpath = './data/output/sf-fire-calls'\n",
    "#fire_df.write.format('parquet').mode('overwrite').save(outputpath)"
   ]
  },
  {
   "cell_type": "code",
   "execution_count": 14,
   "id": "7d47ad08-c0b8-49f9-bee9-ae8e5b624f26",
   "metadata": {},
   "outputs": [],
   "source": [
    "from pyspark.sql.types import ArrayType, FloatType, DateType, BooleanType"
   ]
  },
  {
   "cell_type": "code",
   "execution_count": null,
   "id": "335005a4-bc46-4365-88cf-6d32434e86fc",
   "metadata": {},
   "outputs": [],
   "source": []
  }
 ],
 "metadata": {
  "kernelspec": {
   "display_name": "Python 3 (ipykernel)",
   "language": "python",
   "name": "python3"
  },
  "language_info": {
   "codemirror_mode": {
    "name": "ipython",
    "version": 3
   },
   "file_extension": ".py",
   "mimetype": "text/x-python",
   "name": "python",
   "nbconvert_exporter": "python",
   "pygments_lexer": "ipython3",
   "version": "3.9.7"
  }
 },
 "nbformat": 4,
 "nbformat_minor": 5
}
