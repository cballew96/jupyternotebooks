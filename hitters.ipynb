{
 "cells": [
  {
   "cell_type": "code",
   "execution_count": 59,
   "id": "17dfc0c2-0283-4107-8b16-f7ea414a2bc4",
   "metadata": {},
   "outputs": [],
   "source": [
    "from datetime import date\n",
    "import pandas as pd\n",
    "import numpy as np\n",
    "import os"
   ]
  },
  {
   "cell_type": "code",
   "execution_count": 73,
   "id": "3810db2e-49d3-4c67-b90d-6480b4c7bb8a",
   "metadata": {},
   "outputs": [
    {
     "name": "stderr",
     "output_type": "stream",
     "text": [
      "C:\\Users\\c_bal\\AppData\\Local\\Temp\\ipykernel_17228\\3775484.py:22: DeprecationWarning: executable_path has been deprecated, please pass in a Service object\n",
      "  driver = webdriver.Chrome('C:\\chromedriver\\chromedriver_win32\\chromedriver.exe', options=options)\n"
     ]
    },
    {
     "ename": "NoSuchElementException",
     "evalue": "Message: no such element: Unable to locate element: {\"method\":\"css selector\",\"selector\":\".data-export\"}\n  (Session info: chrome=103.0.5060.114)\nStacktrace:\nBacktrace:\n\tOrdinal0 [0x01216463+2188387]\n\tOrdinal0 [0x011AE461+1762401]\n\tOrdinal0 [0x010C3D78+802168]\n\tOrdinal0 [0x010F1880+989312]\n\tOrdinal0 [0x010F1B1B+989979]\n\tOrdinal0 [0x0111E912+1173778]\n\tOrdinal0 [0x0110C824+1099812]\n\tOrdinal0 [0x0111CC22+1166370]\n\tOrdinal0 [0x0110C5F6+1099254]\n\tOrdinal0 [0x010E6BE0+945120]\n\tOrdinal0 [0x010E7AD6+948950]\n\tGetHandleVerifier [0x014B71F2+2712546]\n\tGetHandleVerifier [0x014A886D+2652765]\n\tGetHandleVerifier [0x012A002A+520730]\n\tGetHandleVerifier [0x0129EE06+516086]\n\tOrdinal0 [0x011B468B+1787531]\n\tOrdinal0 [0x011B8E88+1805960]\n\tOrdinal0 [0x011B8F75+1806197]\n\tOrdinal0 [0x011C1DF1+1842673]\n\tBaseThreadInitThunk [0x75C4FA29+25]\n\tRtlGetAppContainerNamedObjectPath [0x776B7A9E+286]\n\tRtlGetAppContainerNamedObjectPath [0x776B7A6E+238]\n",
     "output_type": "error",
     "traceback": [
      "\u001b[1;31m---------------------------------------------------------------------------\u001b[0m",
      "\u001b[1;31mNoSuchElementException\u001b[0m                    Traceback (most recent call last)",
      "Input \u001b[1;32mIn [73]\u001b[0m, in \u001b[0;36m<cell line: 41>\u001b[1;34m()\u001b[0m\n\u001b[0;32m     37\u001b[0m     time\u001b[38;5;241m.\u001b[39msleep(\u001b[38;5;241m5\u001b[39m)\n\u001b[0;32m     39\u001b[0m     driver\u001b[38;5;241m.\u001b[39mclose()\n\u001b[1;32m---> 41\u001b[0m \u001b[43mscrape\u001b[49m\u001b[43m(\u001b[49m\u001b[43m)\u001b[49m\n",
      "Input \u001b[1;32mIn [73]\u001b[0m, in \u001b[0;36mscrape\u001b[1;34m()\u001b[0m\n\u001b[0;32m     24\u001b[0m \u001b[38;5;124;03m'''\u001b[39;00m\n\u001b[0;32m     25\u001b[0m \u001b[38;5;124;03mThis is the non deprecated way but couldnt get it to work and original way works so stuck with that\u001b[39;00m\n\u001b[0;32m     26\u001b[0m \u001b[38;5;124;03mCHROMEDRIVER_PATH = r'C:\\chromedriver\\chromedriver_win32\\chromedriver.exe'\u001b[39;00m\n\u001b[0;32m     27\u001b[0m \u001b[38;5;124;03m#service = ChromeService(executable_path=CHROMEDRIVER_PATH)\u001b[39;00m\n\u001b[0;32m     28\u001b[0m \u001b[38;5;124;03m#driver = webdriver.Chrome(service=service, options=options)\u001b[39;00m\n\u001b[0;32m     29\u001b[0m \u001b[38;5;124;03m'''\u001b[39;00m\n\u001b[0;32m     31\u001b[0m driver\u001b[38;5;241m.\u001b[39mget(\u001b[38;5;124mf\u001b[39m\u001b[38;5;124m\"\u001b[39m\u001b[38;5;124mhttps://www.fangraphs.com/leaders/splits-leaderboards?splitArr=&splitArrPitch=&position=B&autoPt=true&splitTeams=false\u001b[39m\u001b[38;5;124m\"\u001b[39m\n\u001b[0;32m     32\u001b[0m            \u001b[38;5;124mf\u001b[39m\u001b[38;5;124m\"\u001b[39m\u001b[38;5;124m&statType=player&statgroup=2&startDate=\u001b[39m\u001b[38;5;132;01m{\u001b[39;00mdate1\u001b[38;5;132;01m}\u001b[39;00m\u001b[38;5;124m&endDate=2022-11-01&players=&filter=&groupBy=season&wxTemperature=&wx\u001b[39m\u001b[38;5;124m\"\u001b[39m\n\u001b[0;32m     33\u001b[0m            \u001b[38;5;124mf\u001b[39m\u001b[38;5;124m\"\u001b[39m\u001b[38;5;124mPressure=&wxAirDensity=&wxElevation=&wxWindSpeed=&sort=22,1&pageitems=10000000000000&pg=0\u001b[39m\u001b[38;5;124m\"\u001b[39m)\n\u001b[1;32m---> 35\u001b[0m downloadcsv \u001b[38;5;241m=\u001b[39m \u001b[43mdriver\u001b[49m\u001b[38;5;241;43m.\u001b[39;49m\u001b[43mfind_element\u001b[49m\u001b[43m(\u001b[49m\u001b[43mBy\u001b[49m\u001b[38;5;241;43m.\u001b[39;49m\u001b[43mCSS_SELECTOR\u001b[49m\u001b[43m,\u001b[49m\u001b[43m \u001b[49m\u001b[38;5;124;43m'\u001b[39;49m\u001b[38;5;124;43m.data-export\u001b[39;49m\u001b[38;5;124;43m'\u001b[39;49m\u001b[43m)\u001b[49m\n\u001b[0;32m     36\u001b[0m downloadcsv\u001b[38;5;241m.\u001b[39mclick()\n\u001b[0;32m     37\u001b[0m time\u001b[38;5;241m.\u001b[39msleep(\u001b[38;5;241m5\u001b[39m)\n",
      "File \u001b[1;32m~\\AppData\\Local\\Programs\\Python\\Python39\\lib\\site-packages\\selenium\\webdriver\\remote\\webdriver.py:857\u001b[0m, in \u001b[0;36mWebDriver.find_element\u001b[1;34m(self, by, value)\u001b[0m\n\u001b[0;32m    854\u001b[0m     by \u001b[38;5;241m=\u001b[39m By\u001b[38;5;241m.\u001b[39mCSS_SELECTOR\n\u001b[0;32m    855\u001b[0m     value \u001b[38;5;241m=\u001b[39m \u001b[38;5;124m'\u001b[39m\u001b[38;5;124m[name=\u001b[39m\u001b[38;5;124m\"\u001b[39m\u001b[38;5;132;01m%s\u001b[39;00m\u001b[38;5;124m\"\u001b[39m\u001b[38;5;124m]\u001b[39m\u001b[38;5;124m'\u001b[39m \u001b[38;5;241m%\u001b[39m value\n\u001b[1;32m--> 857\u001b[0m \u001b[38;5;28;01mreturn\u001b[39;00m \u001b[38;5;28;43mself\u001b[39;49m\u001b[38;5;241;43m.\u001b[39;49m\u001b[43mexecute\u001b[49m\u001b[43m(\u001b[49m\u001b[43mCommand\u001b[49m\u001b[38;5;241;43m.\u001b[39;49m\u001b[43mFIND_ELEMENT\u001b[49m\u001b[43m,\u001b[49m\u001b[43m \u001b[49m\u001b[43m{\u001b[49m\n\u001b[0;32m    858\u001b[0m \u001b[43m    \u001b[49m\u001b[38;5;124;43m'\u001b[39;49m\u001b[38;5;124;43musing\u001b[39;49m\u001b[38;5;124;43m'\u001b[39;49m\u001b[43m:\u001b[49m\u001b[43m \u001b[49m\u001b[43mby\u001b[49m\u001b[43m,\u001b[49m\n\u001b[0;32m    859\u001b[0m \u001b[43m    \u001b[49m\u001b[38;5;124;43m'\u001b[39;49m\u001b[38;5;124;43mvalue\u001b[39;49m\u001b[38;5;124;43m'\u001b[39;49m\u001b[43m:\u001b[49m\u001b[43m \u001b[49m\u001b[43mvalue\u001b[49m\u001b[43m}\u001b[49m\u001b[43m)\u001b[49m[\u001b[38;5;124m'\u001b[39m\u001b[38;5;124mvalue\u001b[39m\u001b[38;5;124m'\u001b[39m]\n",
      "File \u001b[1;32m~\\AppData\\Local\\Programs\\Python\\Python39\\lib\\site-packages\\selenium\\webdriver\\remote\\webdriver.py:435\u001b[0m, in \u001b[0;36mWebDriver.execute\u001b[1;34m(self, driver_command, params)\u001b[0m\n\u001b[0;32m    433\u001b[0m response \u001b[38;5;241m=\u001b[39m \u001b[38;5;28mself\u001b[39m\u001b[38;5;241m.\u001b[39mcommand_executor\u001b[38;5;241m.\u001b[39mexecute(driver_command, params)\n\u001b[0;32m    434\u001b[0m \u001b[38;5;28;01mif\u001b[39;00m response:\n\u001b[1;32m--> 435\u001b[0m     \u001b[38;5;28;43mself\u001b[39;49m\u001b[38;5;241;43m.\u001b[39;49m\u001b[43merror_handler\u001b[49m\u001b[38;5;241;43m.\u001b[39;49m\u001b[43mcheck_response\u001b[49m\u001b[43m(\u001b[49m\u001b[43mresponse\u001b[49m\u001b[43m)\u001b[49m\n\u001b[0;32m    436\u001b[0m     response[\u001b[38;5;124m'\u001b[39m\u001b[38;5;124mvalue\u001b[39m\u001b[38;5;124m'\u001b[39m] \u001b[38;5;241m=\u001b[39m \u001b[38;5;28mself\u001b[39m\u001b[38;5;241m.\u001b[39m_unwrap_value(\n\u001b[0;32m    437\u001b[0m         response\u001b[38;5;241m.\u001b[39mget(\u001b[38;5;124m'\u001b[39m\u001b[38;5;124mvalue\u001b[39m\u001b[38;5;124m'\u001b[39m, \u001b[38;5;28;01mNone\u001b[39;00m))\n\u001b[0;32m    438\u001b[0m     \u001b[38;5;28;01mreturn\u001b[39;00m response\n",
      "File \u001b[1;32m~\\AppData\\Local\\Programs\\Python\\Python39\\lib\\site-packages\\selenium\\webdriver\\remote\\errorhandler.py:247\u001b[0m, in \u001b[0;36mErrorHandler.check_response\u001b[1;34m(self, response)\u001b[0m\n\u001b[0;32m    245\u001b[0m         alert_text \u001b[38;5;241m=\u001b[39m value[\u001b[38;5;124m'\u001b[39m\u001b[38;5;124malert\u001b[39m\u001b[38;5;124m'\u001b[39m]\u001b[38;5;241m.\u001b[39mget(\u001b[38;5;124m'\u001b[39m\u001b[38;5;124mtext\u001b[39m\u001b[38;5;124m'\u001b[39m)\n\u001b[0;32m    246\u001b[0m     \u001b[38;5;28;01mraise\u001b[39;00m exception_class(message, screen, stacktrace, alert_text)  \u001b[38;5;66;03m# type: ignore[call-arg]  # mypy is not smart enough here\u001b[39;00m\n\u001b[1;32m--> 247\u001b[0m \u001b[38;5;28;01mraise\u001b[39;00m exception_class(message, screen, stacktrace)\n",
      "\u001b[1;31mNoSuchElementException\u001b[0m: Message: no such element: Unable to locate element: {\"method\":\"css selector\",\"selector\":\".data-export\"}\n  (Session info: chrome=103.0.5060.114)\nStacktrace:\nBacktrace:\n\tOrdinal0 [0x01216463+2188387]\n\tOrdinal0 [0x011AE461+1762401]\n\tOrdinal0 [0x010C3D78+802168]\n\tOrdinal0 [0x010F1880+989312]\n\tOrdinal0 [0x010F1B1B+989979]\n\tOrdinal0 [0x0111E912+1173778]\n\tOrdinal0 [0x0110C824+1099812]\n\tOrdinal0 [0x0111CC22+1166370]\n\tOrdinal0 [0x0110C5F6+1099254]\n\tOrdinal0 [0x010E6BE0+945120]\n\tOrdinal0 [0x010E7AD6+948950]\n\tGetHandleVerifier [0x014B71F2+2712546]\n\tGetHandleVerifier [0x014A886D+2652765]\n\tGetHandleVerifier [0x012A002A+520730]\n\tGetHandleVerifier [0x0129EE06+516086]\n\tOrdinal0 [0x011B468B+1787531]\n\tOrdinal0 [0x011B8E88+1805960]\n\tOrdinal0 [0x011B8F75+1806197]\n\tOrdinal0 [0x011C1DF1+1842673]\n\tBaseThreadInitThunk [0x75C4FA29+25]\n\tRtlGetAppContainerNamedObjectPath [0x776B7A9E+286]\n\tRtlGetAppContainerNamedObjectPath [0x776B7A6E+238]\n"
     ]
    }
   ],
   "source": [
    "from selenium import webdriver\n",
    "from selenium.webdriver.common.by import By\n",
    "from selenium.webdriver.chrome.service import Service as ChromeService\n",
    "import time\n",
    "\n",
    "'''\n",
    "    Downloads the latest CSV file from fangraphs on hitters splits\n",
    "'''\n",
    "\n",
    "\n",
    "date1 = date.today()\n",
    "#date1 = str(date1)\n",
    "\n",
    "# Downloading the csv from fangraphs\n",
    "# Setting the default directory location\n",
    "\n",
    "def scrape():\n",
    "    options = webdriver.ChromeOptions()\n",
    "    prefs = {\"download.default_directory\": r\"C:\\baseball_data_engineering_project\\data_sets\\\\\"}\n",
    "    options.add_experimental_option(\"prefs\",prefs)\n",
    "\n",
    "    driver = webdriver.Chrome('C:\\chromedriver\\chromedriver_win32\\chromedriver.exe', options=options)\n",
    "    \n",
    "    '''\n",
    "    This is the non deprecated way but couldnt get it to work and original way works so stuck with that\n",
    "    CHROMEDRIVER_PATH = r'C:\\chromedriver\\chromedriver_win32\\chromedriver.exe'\n",
    "    #service = ChromeService(executable_path=CHROMEDRIVER_PATH)\n",
    "    #driver = webdriver.Chrome(service=service, options=options)\n",
    "    '''\n",
    "    \n",
    "    # get dataset for the entire season\n",
    "    driver.get(f\"https://www.fangraphs.com/leaders/splits-leaderboards?splitArr=&splitArrPitch=&position=B&autoPt=true&splitTeams=false\"\n",
    "               f\"&statType=player&statgroup=2&startDate=2022-03-01&endDate=2022-11-01&players=&filter=&groupBy=season&wxTemperature=&wx\"\n",
    "               f\"Pressure=&wxAirDensity=&wxElevation=&wxWindSpeed=&sort=22,1&pageitems=10000000000000&pg=0\")\n",
    "\n",
    "    downloadcsv = driver.find_element(By.CSS_SELECTOR, '.data-export')\n",
    "    downloadcsv.click()\n",
    "    time.sleep(5)\n",
    "\n",
    "    driver.close()"
   ]
  },
  {
   "cell_type": "code",
   "execution_count": 28,
   "id": "718a8582-3638-4d84-b465-ebf19a86a743",
   "metadata": {},
   "outputs": [],
   "source": [
    "path_advanced = r'C:\\MLB_Stats\\7_12_22\\splits_lefties_advanced7_12_22.csv'\n",
    "path_battedball = r'C:\\MLB_Stats\\7_12_22\\splits_lefties_battedball7_12_22.csv'\n",
    "\n",
    "df_advanced = pd.read_csv(path_advanced)\n",
    "df_battedball = pd.read_csv(path_battedball)"
   ]
  },
  {
   "cell_type": "code",
   "execution_count": 27,
   "id": "1f878f13-ef93-4569-8f9c-2a316dcf4cdd",
   "metadata": {},
   "outputs": [
    {
     "name": "stdout",
     "output_type": "stream",
     "text": [
      "['C:\\\\MLB_Stats\\\\7_12_22', 'C:\\\\MLB_Stats\\\\7_12_22']\n"
     ]
    }
   ],
   "source": [
    "# stepping thru directory to create dfs from each csv file in the directory\n",
    "\n",
    "l1 = []\n",
    "\n",
    "for file in os.listdir(path):\n",
    "    l1.append(path)\n",
    "    \n",
    "print(l1)"
   ]
  },
  {
   "cell_type": "code",
   "execution_count": 43,
   "id": "d5f9ad34-5cd5-4bf5-b239-8e5b49b2f3dd",
   "metadata": {},
   "outputs": [
    {
     "data": {
      "text/plain": [
       "'2022-07-12'"
      ]
     },
     "execution_count": 43,
     "metadata": {},
     "output_type": "execute_result"
    }
   ],
   "source": [
    "from datetime import date\n",
    "\n",
    "date1 = date.today()\n",
    "\n",
    "str(date1)"
   ]
  }
 ],
 "metadata": {
  "kernelspec": {
   "display_name": "Python 3 (ipykernel)",
   "language": "python",
   "name": "python3"
  },
  "language_info": {
   "codemirror_mode": {
    "name": "ipython",
    "version": 3
   },
   "file_extension": ".py",
   "mimetype": "text/x-python",
   "name": "python",
   "nbconvert_exporter": "python",
   "pygments_lexer": "ipython3",
   "version": "3.9.7"
  }
 },
 "nbformat": 4,
 "nbformat_minor": 5
}
