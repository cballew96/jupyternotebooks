{
 "cells": [
  {
   "cell_type": "code",
   "execution_count": 59,
   "id": "17dfc0c2-0283-4107-8b16-f7ea414a2bc4",
   "metadata": {},
   "outputs": [],
   "source": [
    "from datetime import date\n",
    "import pandas as pd\n",
    "import numpy as np\n",
    "import os"
   ]
  },
  {
   "cell_type": "code",
   "execution_count": 74,
   "id": "3810db2e-49d3-4c67-b90d-6480b4c7bb8a",
   "metadata": {},
   "outputs": [
    {
     "name": "stderr",
     "output_type": "stream",
     "text": [
      "C:\\Users\\c_bal\\AppData\\Local\\Temp\\ipykernel_17228\\1195470231.py:22: DeprecationWarning: executable_path has been deprecated, please pass in a Service object\n",
      "  driver = webdriver.Chrome('C:\\chromedriver\\chromedriver_win32\\chromedriver.exe', options=options)\n"
     ]
    }
   ],
   "source": [
    "from selenium import webdriver\n",
    "from selenium.webdriver.common.by import By\n",
    "from selenium.webdriver.chrome.service import Service as ChromeService\n",
    "import time\n",
    "\n",
    "'''\n",
    "    Downloads the latest CSV file from fangraphs on hitters splits\n",
    "'''\n",
    "\n",
    "\n",
    "date1 = date.today()\n",
    "#date1 = str(date1)\n",
    "\n",
    "# Downloading the csv from fangraphs\n",
    "# Setting the default directory location\n",
    "\n",
    "def scrape():\n",
    "    options = webdriver.ChromeOptions()\n",
    "    prefs = {\"download.default_directory\": r\"C:\\baseball_data_engineering_project\\data_sets\\\\\"}\n",
    "    options.add_experimental_option(\"prefs\",prefs)\n",
    "\n",
    "    driver = webdriver.Chrome('C:\\chromedriver\\chromedriver_win32\\chromedriver.exe', options=options)\n",
    "    \n",
    "    '''\n",
    "    This is the non deprecated way but couldnt get it to work and original way works so stuck with that\n",
    "    CHROMEDRIVER_PATH = r'C:\\chromedriver\\chromedriver_win32\\chromedriver.exe'\n",
    "    #service = ChromeService(executable_path=CHROMEDRIVER_PATH)\n",
    "    #driver = webdriver.Chrome(service=service, options=options)\n",
    "    '''\n",
    "    \n",
    "    # get dataset for the entire season\n",
    "    driver.get(f\"https://www.fangraphs.com/leaders/splits-leaderboards?splitArr=&splitArrPitch=&position=B&autoPt=true&splitTeams=false\"\n",
    "               f\"&statType=player&statgroup=2&startDate=2022-03-01&endDate=2022-11-01&players=&filter=&groupBy=season&wxTemperature=&wx\"\n",
    "               f\"Pressure=&wxAirDensity=&wxElevation=&wxWindSpeed=&sort=22,1&pageitems=10000000000000&pg=0\")\n",
    "\n",
    "    downloadcsv = driver.find_element(By.CSS_SELECTOR, '.data-export')\n",
    "    downloadcsv.click()\n",
    "    time.sleep(5)\n",
    "\n",
    "    driver.close()\n",
    "    \n",
    "scrape()"
   ]
  },
  {
   "cell_type": "code",
   "execution_count": 28,
   "id": "718a8582-3638-4d84-b465-ebf19a86a743",
   "metadata": {},
   "outputs": [],
   "source": [
    "path_advanced = r'C:\\MLB_Stats\\7_12_22\\splits_lefties_advanced7_12_22.csv'\n",
    "path_battedball = r'C:\\MLB_Stats\\7_12_22\\splits_lefties_battedball7_12_22.csv'\n",
    "\n",
    "df_advanced = pd.read_csv(path_advanced)\n",
    "df_battedball = pd.read_csv(path_battedball)"
   ]
  },
  {
   "cell_type": "code",
   "execution_count": 27,
   "id": "1f878f13-ef93-4569-8f9c-2a316dcf4cdd",
   "metadata": {},
   "outputs": [
    {
     "name": "stdout",
     "output_type": "stream",
     "text": [
      "['C:\\\\MLB_Stats\\\\7_12_22', 'C:\\\\MLB_Stats\\\\7_12_22']\n"
     ]
    }
   ],
   "source": []
  },
  {
   "cell_type": "code",
   "execution_count": 43,
   "id": "d5f9ad34-5cd5-4bf5-b239-8e5b49b2f3dd",
   "metadata": {},
   "outputs": [
    {
     "data": {
      "text/plain": [
       "'2022-07-12'"
      ]
     },
     "execution_count": 43,
     "metadata": {},
     "output_type": "execute_result"
    }
   ],
   "source": []
  }
 ],
 "metadata": {
  "kernelspec": {
   "display_name": "Python 3 (ipykernel)",
   "language": "python",
   "name": "python3"
  },
  "language_info": {
   "codemirror_mode": {
    "name": "ipython",
    "version": 3
   },
   "file_extension": ".py",
   "mimetype": "text/x-python",
   "name": "python",
   "nbconvert_exporter": "python",
   "pygments_lexer": "ipython3",
   "version": "3.9.7"
  }
 },
 "nbformat": 4,
 "nbformat_minor": 5
}
