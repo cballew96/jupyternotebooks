{
 "cells": [
  {
   "cell_type": "code",
   "execution_count": 1,
   "id": "266af74f-9962-477b-9279-fc597bb6038e",
   "metadata": {},
   "outputs": [],
   "source": [
    "from pyspark.sql import SparkSession\n",
    "from pyspark.sql.types import *"
   ]
  },
  {
   "cell_type": "code",
   "execution_count": 2,
   "id": "93ca1716-8564-4d63-94dc-fcad9fd18201",
   "metadata": {},
   "outputs": [],
   "source": [
    "spark = (SparkSession.builder.appName(\"Sales Challenge\").getOrCreate())\n",
    "#spark.conf.set('spark.sql.parquet.compression.codec', 'gzip')"
   ]
  },
  {
   "cell_type": "markdown",
   "id": "e579a37f-0366-4a0d-a19b-fc1dfab06b2e",
   "metadata": {},
   "source": [
    "## Data Preparation"
   ]
  },
  {
   "cell_type": "code",
   "execution_count": 3,
   "id": "3442fabc-733b-454b-b596-a6b45c6e956d",
   "metadata": {},
   "outputs": [],
   "source": [
    "schema = StructType([\n",
    "    StructField('Order ID', StringType(), True),\n",
    "    StructField('Product', StringType(), True),\n",
    "    StructField('Quantity Ordered', StringType(), True),\n",
    "    StructField('Price Each', StringType(), True),\n",
    "    StructField('Order Date', StringType(), True),\n",
    "    StructField('Purchase Address', StringType(), True)\n",
    "])\n"
   ]
  },
  {
   "cell_type": "code",
   "execution_count": 4,
   "id": "056efd68-f512-4437-9f45-97a05e83f00e",
   "metadata": {},
   "outputs": [],
   "source": [
    "sales_data_path = './data/salesdata/Sales_April_2019.csv'\n",
    "sales_raw_df = (spark.read.format('csv')\n",
    "                .option('header', True)\n",
    "                .schema(schema)\n",
    "                .load(sales_data_path))"
   ]
  },
  {
   "cell_type": "code",
   "execution_count": 5,
   "id": "a5688521-1989-4513-a0fa-e22df652c95d",
   "metadata": {},
   "outputs": [
    {
     "name": "stdout",
     "output_type": "stream",
     "text": [
      "+--------+--------------------+----------------+----------+--------------+--------------------+\n",
      "|Order ID|             Product|Quantity Ordered|Price Each|    Order Date|    Purchase Address|\n",
      "+--------+--------------------+----------------+----------+--------------+--------------------+\n",
      "|  176558|USB-C Charging Cable|               2|     11.95|04/19/19 08:46|917 1st St, Dalla...|\n",
      "|    null|                null|            null|      null|          null|                null|\n",
      "|  176559|Bose SoundSport H...|               1|     99.99|04/07/19 22:30|682 Chestnut St, ...|\n",
      "|  176560|        Google Phone|               1|       600|04/12/19 14:38|669 Spruce St, Lo...|\n",
      "|  176560|    Wired Headphones|               1|     11.99|04/12/19 14:38|669 Spruce St, Lo...|\n",
      "|  176561|    Wired Headphones|               1|     11.99|04/30/19 09:27|333 8th St, Los A...|\n",
      "|  176562|USB-C Charging Cable|               1|     11.95|04/29/19 13:03|381 Wilson St, Sa...|\n",
      "|  176563|Bose SoundSport H...|               1|     99.99|04/02/19 07:46|668 Center St, Se...|\n",
      "|  176564|USB-C Charging Cable|               1|     11.95|04/12/19 10:58|790 Ridge St, Atl...|\n",
      "|  176565|  Macbook Pro Laptop|               1|      1700|04/24/19 10:38|915 Willow St, Sa...|\n",
      "|  176566|    Wired Headphones|               1|     11.99|04/08/19 14:05|83 7th St, Boston...|\n",
      "|  176567|        Google Phone|               1|       600|04/18/19 17:18|444 7th St, Los A...|\n",
      "|  176568|Lightning Chargin...|               1|     14.95|04/15/19 12:18|438 Elm St, Seatt...|\n",
      "|  176569|27in 4K Gaming Mo...|               1|    389.99|04/16/19 19:23|657 Hill St, Dall...|\n",
      "|  176570|AA Batteries (4-p...|               1|      3.84|04/22/19 15:09|186 12th St, Dall...|\n",
      "|  176571|Lightning Chargin...|               1|     14.95|04/19/19 14:29|253 Johnson St, A...|\n",
      "|  176572|Apple Airpods Hea...|               1|       150|04/04/19 20:30|149 Dogwood St, N...|\n",
      "|  176573|USB-C Charging Cable|               1|     11.95|04/27/19 18:41|214 Chestnut St, ...|\n",
      "|  176574|        Google Phone|               1|       600|04/03/19 19:42|20 Hill St, Los A...|\n",
      "|  176574|USB-C Charging Cable|               1|     11.95|04/03/19 19:42|20 Hill St, Los A...|\n",
      "+--------+--------------------+----------------+----------+--------------+--------------------+\n",
      "only showing top 20 rows\n",
      "\n"
     ]
    }
   ],
   "source": [
    "sales_raw_df.show(20)"
   ]
  },
  {
   "cell_type": "code",
   "execution_count": 6,
   "id": "7fbe9e47-e095-4736-948c-bec3dd4ea146",
   "metadata": {},
   "outputs": [
    {
     "name": "stdout",
     "output_type": "stream",
     "text": [
      "root\n",
      " |-- Order ID: string (nullable = true)\n",
      " |-- Product: string (nullable = true)\n",
      " |-- Quantity Ordered: string (nullable = true)\n",
      " |-- Price Each: string (nullable = true)\n",
      " |-- Order Date: string (nullable = true)\n",
      " |-- Purchase Address: string (nullable = true)\n",
      "\n"
     ]
    }
   ],
   "source": [
    "sales_raw_df.printSchema()"
   ]
  },
  {
   "cell_type": "markdown",
   "id": "486498e9-6750-46a2-ad8a-6ab06fe66b54",
   "metadata": {},
   "source": [
    "## Reading a JSON"
   ]
  },
  {
   "cell_type": "code",
   "execution_count": 7,
   "id": "4acb48ea-53c0-497e-a7b2-502cd9fb8b42",
   "metadata": {},
   "outputs": [
    {
     "name": "stdout",
     "output_type": "stream",
     "text": [
      "+---+----------+---------+-------------------------------------------------------------+-------+-----------------------------------------------+-------------+------+\n",
      "|id |first_name|last_name|fav_movies                                                   |salary |image_url                                      |date_of_birth|active|\n",
      "+---+----------+---------+-------------------------------------------------------------+-------+-----------------------------------------------+-------------+------+\n",
      "|1  |Drucy     |Poppy    |[I giorni contati]                                           |1463.36|http://dummyimage.com/126x166.png/cc0000/ffffff|1991-02-16   |true  |\n",
      "|2  |Emelyne   |Blaza    |[Musketeer, The, Topralli]                                   |3006.04|http://dummyimage.com/158x106.bmp/cc0000/ffffff|1991-11-02   |false |\n",
      "|3  |Max       |Rettie   |[The Forgotten Space, Make It Happen]                        |1422.88|http://dummyimage.com/237x140.jpg/ff4444/ffffff|1990-03-03   |false |\n",
      "|4  |Ilario    |Kean     |[Up Close and Personal]                                      |3561.36|http://dummyimage.com/207x121.jpg/cc0000/ffffff|1987-06-09   |true  |\n",
      "|5  |Toddy     |Drexel   |[Walk in the Clouds, A]                                      |4934.87|http://dummyimage.com/116x202.png/cc0000/ffffff|1992-10-28   |true  |\n",
      "|6  |Oswald    |Petrolli |[Wing and the Thigh, The (L'aile ou la cuisse)]              |1153.23|http://dummyimage.com/137x172.jpg/5fa2dd/ffffff|1986-09-02   |false |\n",
      "|7  |Adrian    |Clarey   |[Walking Tall, Paradise, Hawaiian Style]                     |1044.73|http://dummyimage.com/244x218.bmp/cc0000/ffffff|1971-08-24   |false |\n",
      "|8  |Dominica  |Goodnow  |[Hearts Divided]                                             |1147.76|http://dummyimage.com/112x203.jpg/dddddd/000000|1973-08-27   |false |\n",
      "|9  |Emory     |Slocomb  |[Snake and Crane Arts of Shaolin (She hao ba bu), Mala Noche]|1082.11|http://dummyimage.com/138x226.jpg/cc0000/ffffff|1974-06-08   |true  |\n",
      "|10 |Jeremias  |Bode     |[Farewell to Arms, A]                                        |3472.63|http://dummyimage.com/243x108.bmp/dddddd/000000|1997-08-02   |true  |\n",
      "+---+----------+---------+-------------------------------------------------------------+-------+-----------------------------------------------+-------------+------+\n",
      "only showing top 10 rows\n",
      "\n"
     ]
    }
   ],
   "source": [
    "persons_schema = StructType([\n",
    "    StructField('id', IntegerType(), True),\n",
    "    StructField('first_name', StringType(), True),\n",
    "    StructField('last_name', StringType(), True),\n",
    "    StructField('fav_movies', ArrayType(StringType()), True),\n",
    "    StructField('salary', FloatType(), True),\n",
    "    StructField('image_url', StringType(), True),\n",
    "    StructField('date_of_birth', DateType(), True),\n",
    "    StructField('active', BooleanType(), True)])\n",
    "\n",
    "\n",
    "json_path = './data/person/persons.json'\n",
    "persons_df = (spark.read.json(json_path, persons_schema, multiLine='True'))\n",
    "persons_df.show(10, truncate=False)"
   ]
  },
  {
   "cell_type": "markdown",
   "id": "a7779ce5-eb50-4b32-9083-5f187c8998d1",
   "metadata": {},
   "source": [
    "## Columns and Expressions"
   ]
  },
  {
   "cell_type": "code",
   "execution_count": 8,
   "id": "6b4b7a94-0c60-4f3b-a6d0-68a25c1eed33",
   "metadata": {},
   "outputs": [],
   "source": [
    "from pyspark.sql.functions import col, expr"
   ]
  },
  {
   "cell_type": "code",
   "execution_count": 9,
   "id": "750152b2-403d-42ff-bcc9-54e8c522cb44",
   "metadata": {},
   "outputs": [
    {
     "name": "stdout",
     "output_type": "stream",
     "text": [
      "+----------+---------+-------+\n",
      "|first_name|last_name| salary|\n",
      "+----------+---------+-------+\n",
      "|     Drucy|    Poppy|1463.36|\n",
      "|   Emelyne|    Blaza|3006.04|\n",
      "|       Max|   Rettie|1422.88|\n",
      "|    Ilario|     Kean|3561.36|\n",
      "|     Toddy|   Drexel|4934.87|\n",
      "+----------+---------+-------+\n",
      "only showing top 5 rows\n",
      "\n"
     ]
    }
   ],
   "source": [
    "persons_df.select(col('first_name'), col('last_name'), col('salary')).show(5)"
   ]
  },
  {
   "cell_type": "code",
   "execution_count": 10,
   "id": "45cc2011-153a-4338-ac29-d470b1740878",
   "metadata": {},
   "outputs": [],
   "source": [
    "from pyspark.sql.functions import concat_ws"
   ]
  },
  {
   "cell_type": "code",
   "execution_count": 11,
   "id": "8234cbe1-ad78-41af-b996-d4cf0cc307ec",
   "metadata": {},
   "outputs": [
    {
     "name": "stdout",
     "output_type": "stream",
     "text": [
      "+----------------+\n",
      "|       full_name|\n",
      "+----------------+\n",
      "|     Drucy Poppy|\n",
      "|   Emelyne Blaza|\n",
      "|      Max Rettie|\n",
      "|     Ilario Kean|\n",
      "|    Toddy Drexel|\n",
      "| Oswald Petrolli|\n",
      "|   Adrian Clarey|\n",
      "|Dominica Goodnow|\n",
      "|   Emory Slocomb|\n",
      "|   Jeremias Bode|\n",
      "+----------------+\n",
      "only showing top 10 rows\n",
      "\n"
     ]
    }
   ],
   "source": [
    "persons_df.select(concat_ws(' ', col('first_name'),col('last_name')).alias('full_name')).show(10)"
   ]
  },
  {
   "cell_type": "code",
   "execution_count": 12,
   "id": "65d650fb-c682-42e4-ad0f-1d10cdbd1e06",
   "metadata": {},
   "outputs": [
    {
     "name": "stdout",
     "output_type": "stream",
     "text": [
      "+----------------+-------+------------------+\n",
      "|       full_name| salary|   salary increase|\n",
      "+----------------+-------+------------------+\n",
      "|     Drucy Poppy|1463.36|1609.6959838867188|\n",
      "|   Emelyne Blaza|3006.04|  3306.64404296875|\n",
      "|      Max Rettie|1422.88|1565.1680053710938|\n",
      "|     Ilario Kean|3561.36|3917.4961181640624|\n",
      "|    Toddy Drexel|4934.87|  5428.35712890625|\n",
      "| Oswald Petrolli|1153.23| 1268.552978515625|\n",
      "|   Adrian Clarey|1044.73| 1149.202978515625|\n",
      "|Dominica Goodnow|1147.76|1262.5360107421875|\n",
      "|   Emory Slocomb|1082.11|1190.3209838867188|\n",
      "|   Jeremias Bode|3472.63|  3819.89287109375|\n",
      "+----------------+-------+------------------+\n",
      "only showing top 10 rows\n",
      "\n"
     ]
    }
   ],
   "source": [
    "persons_df.select(concat_ws(' ', col('first_name'), col('last_name')).alias('full_name'),\n",
    "                  col('salary'),\n",
    "                  (col('salary') * .10 + col('salary')).alias('salary increase')).show(10)"
   ]
  },
  {
   "cell_type": "code",
   "execution_count": 13,
   "id": "e846296e-c04d-4816-b6ef-d1af05fda2cc",
   "metadata": {},
   "outputs": [
    {
     "name": "stdout",
     "output_type": "stream",
     "text": [
      "+----------------+-------+------------------+\n",
      "|       full_name| salary|   salary increase|\n",
      "+----------------+-------+------------------+\n",
      "|     Drucy Poppy|1463.36|1609.6959838867188|\n",
      "|   Emelyne Blaza|3006.04|  3306.64404296875|\n",
      "|      Max Rettie|1422.88|1565.1680053710938|\n",
      "|     Ilario Kean|3561.36|3917.4961181640624|\n",
      "|    Toddy Drexel|4934.87|  5428.35712890625|\n",
      "| Oswald Petrolli|1153.23| 1268.552978515625|\n",
      "|   Adrian Clarey|1044.73| 1149.202978515625|\n",
      "|Dominica Goodnow|1147.76|1262.5360107421875|\n",
      "|   Emory Slocomb|1082.11|1190.3209838867188|\n",
      "|   Jeremias Bode|3472.63|  3819.89287109375|\n",
      "+----------------+-------+------------------+\n",
      "only showing top 10 rows\n",
      "\n"
     ]
    }
   ],
   "source": [
    "# Using expr allows ('salary * .10 + salary') vs using col('salary') * .10 + col('salary') -- both have the same result\n",
    "\n",
    "persons_df.select(concat_ws(' ', col('first_name'), col('last_name')).alias('full_name'),\n",
    "                  col('salary'),\n",
    "                  (expr('salary * .10 + salary')).alias('salary increase')).show(10)"
   ]
  },
  {
   "cell_type": "markdown",
   "id": "6f6f2a57-f475-4c4e-b887-a4bf76dfe8cb",
   "metadata": {},
   "source": [
    "## Filter and where condition -- both can be used to do the same thing"
   ]
  },
  {
   "cell_type": "code",
   "execution_count": 14,
   "id": "aa228750-42a7-4d9e-986c-e29f367a5c03",
   "metadata": {},
   "outputs": [
    {
     "name": "stdout",
     "output_type": "stream",
     "text": [
      "+---+----------+-----------+--------------------+-------+--------------------+-------------+------+\n",
      "| id|first_name|  last_name|          fav_movies| salary|           image_url|date_of_birth|active|\n",
      "+---+----------+-----------+--------------------+-------+--------------------+-------------+------+\n",
      "|  1|     Drucy|      Poppy|  [I giorni contati]|1463.36|http://dummyimage...|   1991-02-16|  true|\n",
      "|  3|       Max|     Rettie|[The Forgotten Sp...|1422.88|http://dummyimage...|   1990-03-03| false|\n",
      "|  6|    Oswald|   Petrolli|[Wing and the Thi...|1153.23|http://dummyimage...|   1986-09-02| false|\n",
      "|  7|    Adrian|     Clarey|[Walking Tall, Pa...|1044.73|http://dummyimage...|   1971-08-24| false|\n",
      "|  8|  Dominica|    Goodnow|    [Hearts Divided]|1147.76|http://dummyimage...|   1973-08-27| false|\n",
      "|  9|     Emory|    Slocomb|[Snake and Crane ...|1082.11|http://dummyimage...|   1974-06-08|  true|\n",
      "| 11|   Timothy|     Ervine|[Land of the Lost...|1147.61|http://dummyimage...|   1971-06-02| false|\n",
      "| 12|   Leanora|     Gooder|[It's All About L...|1327.02|http://dummyimage...|   1981-12-17| false|\n",
      "| 13|  Claiborn|     Denham|[McCullin, Max Pa...|2623.33|http://dummyimage...|   1996-03-07| false|\n",
      "| 15|    Feodor|Nancekivell|   [Monsoon Wedding]|2218.46|http://dummyimage...|   2000-10-07| false|\n",
      "+---+----------+-----------+--------------------+-------+--------------------+-------------+------+\n",
      "only showing top 10 rows\n",
      "\n"
     ]
    }
   ],
   "source": [
    "persons_df.filter('salary <= 3000').show(10)"
   ]
  },
  {
   "cell_type": "code",
   "execution_count": 15,
   "id": "2108b19f-2cbf-415e-8a0a-7404987d32ff",
   "metadata": {},
   "outputs": [
    {
     "name": "stdout",
     "output_type": "stream",
     "text": [
      "+---+----------+---------+--------------------+-------+--------------------+-------------+------+\n",
      "| id|first_name|last_name|          fav_movies| salary|           image_url|date_of_birth|active|\n",
      "+---+----------+---------+--------------------+-------+--------------------+-------------+------+\n",
      "|  1|     Drucy|    Poppy|  [I giorni contati]|1463.36|http://dummyimage...|   1991-02-16|  true|\n",
      "|  9|     Emory|  Slocomb|[Snake and Crane ...|1082.11|http://dummyimage...|   1974-06-08|  true|\n",
      "| 16|   Margaux| Archbold|[And Now a Word f...|1013.75|http://dummyimage...|   1988-07-29|  true|\n",
      "| 26|     Clive|      Lax|             [Rabid]|2126.87|http://dummyimage...|   1981-10-26|  true|\n",
      "| 33|  Sherline|  Primett|   [Jungle Fighters]|2309.39|http://dummyimage...|   1972-07-23|  true|\n",
      "| 34|     Davis|    Pinks|          [Hounddog]|1337.14|http://dummyimage...|   1989-07-27|  true|\n",
      "| 37|    Carlen|  Sharply|[Dr. Jekyll and M...|2051.85|http://dummyimage...|   2002-06-01|  true|\n",
      "| 40|    Jordan|   Lorant|[Shockproof, Bach...|2183.91|http://dummyimage...|   1979-07-29|  true|\n",
      "| 49| Kendricks|      Kee|   [Flower & Garnet]|2304.39|http://dummyimage...|   1999-11-14|  true|\n",
      "| 57|   Krystle|  Shovell|[Doomsday, Flight...|2260.76|http://dummyimage...|   1987-09-01|  true|\n",
      "+---+----------+---------+--------------------+-------+--------------------+-------------+------+\n",
      "only showing top 10 rows\n",
      "\n"
     ]
    }
   ],
   "source": [
    "persons_df.where((col('salary') <= 3000) & (col('active') == True)).show(10)"
   ]
  },
  {
   "cell_type": "code",
   "execution_count": 16,
   "id": "fe0a204d-70d3-44ce-88b2-5768a12f4d81",
   "metadata": {},
   "outputs": [],
   "source": [
    "from pyspark.sql.functions import year"
   ]
  },
  {
   "cell_type": "code",
   "execution_count": 17,
   "id": "af356660-166d-4b3b-b4c8-9a594157cb53",
   "metadata": {},
   "outputs": [
    {
     "name": "stdout",
     "output_type": "stream",
     "text": [
      "+---+----------+-----------+--------------------+-------+--------------------+-------------+------+\n",
      "| id|first_name|  last_name|          fav_movies| salary|           image_url|date_of_birth|active|\n",
      "+---+----------+-----------+--------------------+-------+--------------------+-------------+------+\n",
      "| 14|   Ambrosi|   Vidineev|[Wall Street: Mon...|4550.88|http://dummyimage...|   1989-07-20|  true|\n",
      "| 15|    Feodor|Nancekivell|   [Monsoon Wedding]|2218.46|http://dummyimage...|   2000-10-07| false|\n",
      "| 18|     Alfie|   Hatliffe|     [Lord of Tears]| 3893.1|http://dummyimage...|   1989-06-21|  true|\n",
      "| 25|     Kelcy|     Wogdon|    [Iron Mask, The]|4512.51|http://dummyimage...|   2000-10-20|  true|\n",
      "| 32|      Redd|   Akenhead|[Century of the D...| 2470.9|http://dummyimage...|   2000-06-05| false|\n",
      "| 34|     Davis|      Pinks|          [Hounddog]|1337.14|http://dummyimage...|   1989-07-27|  true|\n",
      "| 61|    Shanna|    Samples|[Thomas in Love (...| 2703.0|http://dummyimage...|   1989-07-07| false|\n",
      "| 69|  Annabell|    Doughty|[Entertaining Ang...|2022.57|http://dummyimage...|   2000-09-03|  true|\n",
      "| 74|     Micky|     Umfrey|[Haunted House, T...|1271.82|http://dummyimage...|   1989-07-04| false|\n",
      "| 88|     Jobie|    Maughan|[Devils on the Do...| 3899.2|http://dummyimage...|   2000-02-07| false|\n",
      "+---+----------+-----------+--------------------+-------+--------------------+-------------+------+\n",
      "\n"
     ]
    }
   ],
   "source": [
    "persons_df.filter((year(\"date_of_birth\") == 2000) | (year(\"date_of_birth\") == 1989)).show()"
   ]
  },
  {
   "cell_type": "code",
   "execution_count": 18,
   "id": "2282487f-fddb-482c-9008-c57a3cd84aaa",
   "metadata": {},
   "outputs": [
    {
     "name": "stdout",
     "output_type": "stream",
     "text": [
      "+---+----------+---------+--------------------+-------+--------------------+-------------+------+\n",
      "| id|first_name|last_name|          fav_movies| salary|           image_url|date_of_birth|active|\n",
      "+---+----------+---------+--------------------+-------+--------------------+-------------+------+\n",
      "| 11|   Timothy|   Ervine|[Land of the Lost...|1147.61|http://dummyimage...|   1971-06-02| false|\n",
      "+---+----------+---------+--------------------+-------+--------------------+-------------+------+\n",
      "\n"
     ]
    }
   ],
   "source": [
    "from pyspark.sql.functions import array_contains\n",
    "\n",
    "persons_df.where(array_contains(persons_df.fav_movies, \"Land of the Lost\")).show()"
   ]
  },
  {
   "cell_type": "markdown",
   "id": "e90993e5-8fa5-4538-9ef2-a418ca052738",
   "metadata": {},
   "source": [
    "## Distinct, Drop Duplicates, Order By"
   ]
  },
  {
   "cell_type": "code",
   "execution_count": 19,
   "id": "02a52bfd-6cdc-48f3-afac-f50024ee3213",
   "metadata": {},
   "outputs": [
    {
     "name": "stdout",
     "output_type": "stream",
     "text": [
      "+------+\n",
      "|active|\n",
      "+------+\n",
      "|  true|\n",
      "| false|\n",
      "| false|\n",
      "|  true|\n",
      "|  true|\n",
      "| false|\n",
      "| false|\n",
      "| false|\n",
      "|  true|\n",
      "|  true|\n",
      "+------+\n",
      "only showing top 10 rows\n",
      "\n"
     ]
    }
   ],
   "source": [
    "from pyspark.sql.functions import count, desc\n",
    "\n",
    "persons_df.select(\"active\").show(10)"
   ]
  },
  {
   "cell_type": "code",
   "execution_count": 20,
   "id": "753ef11f-3cce-4656-8063-fe97e1113cef",
   "metadata": {},
   "outputs": [
    {
     "name": "stdout",
     "output_type": "stream",
     "text": [
      "+------+\n",
      "|active|\n",
      "+------+\n",
      "|  true|\n",
      "| false|\n",
      "+------+\n",
      "\n"
     ]
    }
   ],
   "source": [
    "persons_df.select(\"active\").distinct().show()"
   ]
  },
  {
   "cell_type": "code",
   "execution_count": 21,
   "id": "30e5d04b-37aa-4aad-8458-955f8288d8c0",
   "metadata": {},
   "outputs": [
    {
     "name": "stdout",
     "output_type": "stream",
     "text": [
      "+----------+----+------+\n",
      "|first_name|year|active|\n",
      "+----------+----+------+\n",
      "|    Adrian|1971| false|\n",
      "|   Feodora|1971|  true|\n",
      "|       Sky|1971| false|\n",
      "|   Timothy|1971| false|\n",
      "|    Lucita|1972|  true|\n",
      "|      Rodi|1972| false|\n",
      "|  Sherline|1972|  true|\n",
      "|     Toddy|1972|  true|\n",
      "|  Dominica|1973| false|\n",
      "|    Kelila|1973|  true|\n",
      "+----------+----+------+\n",
      "only showing top 10 rows\n",
      "\n"
     ]
    }
   ],
   "source": [
    "persons_df.select(col(\"first_name\"), year(col(\"date_of_birth\")).alias(\"year\"),\n",
    "                                          col(\"active\")).orderBy('year', 'first_name').show(10)"
   ]
  },
  {
   "cell_type": "code",
   "execution_count": 22,
   "id": "d76bf27f-77ae-45e2-8148-f31caff2182a",
   "metadata": {},
   "outputs": [],
   "source": [
    "dropped_df = (persons_df.select(col('first_name'),\n",
    "              year(col('date_of_birth')).alias('year'),\n",
    "              col('active')).dropDuplicates(['year','active'])).orderBy('year','first_name')                                                            "
   ]
  },
  {
   "cell_type": "code",
   "execution_count": 23,
   "id": "557871f0-3ade-414a-a677-837691438422",
   "metadata": {},
   "outputs": [
    {
     "name": "stdout",
     "output_type": "stream",
     "text": [
      "+----------+----+------+\n",
      "|first_name|year|active|\n",
      "+----------+----+------+\n",
      "|    Adrian|1971| false|\n",
      "|   Feodora|1971|  true|\n",
      "|      Rodi|1972| false|\n",
      "|  Sherline|1972|  true|\n",
      "|  Dominica|1973| false|\n",
      "|    Kelila|1973|  true|\n",
      "|   Balduin|1974| false|\n",
      "|     Emory|1974|  true|\n",
      "|    Janean|1975|  true|\n",
      "|       Bev|1976|  true|\n",
      "| Franciska|1976| false|\n",
      "|     Johny|1977| false|\n",
      "|    Daveta|1978| false|\n",
      "|   Guthrie|1978|  true|\n",
      "|      Maxi|1979| false|\n",
      "|   Melinda|1979|  true|\n",
      "|    Carter|1980| false|\n",
      "|   Loralyn|1980|  true|\n",
      "|     Clive|1981|  true|\n",
      "|   Leanora|1981| false|\n",
      "+----------+----+------+\n",
      "only showing top 20 rows\n",
      "\n"
     ]
    }
   ],
   "source": [
    "dropped_df.show()"
   ]
  },
  {
   "cell_type": "code",
   "execution_count": 24,
   "id": "54250b0c-04d1-41b7-88d4-319d8758e2d4",
   "metadata": {},
   "outputs": [
    {
     "name": "stdout",
     "output_type": "stream",
     "text": [
      "+----------+----+------+\n",
      "|first_name|year|active|\n",
      "+----------+----+------+\n",
      "|     Daron|2002|  true|\n",
      "|    Virgie|2002|  true|\n",
      "|    Carlen|2002|  true|\n",
      "|   Lorilee|2002| false|\n",
      "|    Maxine|2001| false|\n",
      "|    Feodor|2000| false|\n",
      "|     Kelcy|2000|  true|\n",
      "|  Annabell|2000|  true|\n",
      "|      Redd|2000| false|\n",
      "|     Jobie|2000| false|\n",
      "+----------+----+------+\n",
      "only showing top 10 rows\n",
      "\n"
     ]
    }
   ],
   "source": [
    "persons_df.select(col(\"first_name\"), \n",
    "                  year(col(\"date_of_birth\")).alias(\"year\"),\n",
    "                  col(\"active\")).orderBy('year', ascending = False).show(10)"
   ]
  },
  {
   "cell_type": "markdown",
   "id": "8ff72879-671d-402e-8c82-b7e97d43cc76",
   "metadata": {},
   "source": [
    "## Rows and Union"
   ]
  },
  {
   "cell_type": "code",
   "execution_count": 25,
   "id": "f593e520-8e67-4483-8b64-25c2c0c64613",
   "metadata": {},
   "outputs": [],
   "source": [
    "from pyspark.sql import Row"
   ]
  },
  {
   "cell_type": "code",
   "execution_count": 26,
   "id": "489b3c34-7cad-4a22-ad7c-d85180023faa",
   "metadata": {},
   "outputs": [],
   "source": [
    "person_row = Row(101, 'Robert', 'Owens', ['Men in Black III', 'Home Alone'], 4300.64,\n",
    "                 'http://someimage.com', '1964-09-18', True)\n",
    "persons_row_list = [Row(101, 'Kenny', 'Bobien', ['Men in Black III', 'Home Alone'], 4300.64,\n",
    "                 'http://someimage.com', '1964-09-18', True),\n",
    "                  Row(101, 'Sara', 'Devine', ['Men in Black III', 'Home Alone'], 4300.64,\n",
    "                 'http://someimage.com', '1964-09-18', True)]                                      "
   ]
  },
  {
   "cell_type": "code",
   "execution_count": 27,
   "id": "4fc1b6ec-b815-4880-abe0-2a70ce94f021",
   "metadata": {},
   "outputs": [],
   "source": [
    "persons_row_list.append(person_row)"
   ]
  },
  {
   "cell_type": "code",
   "execution_count": 28,
   "id": "1241af46-88d9-418b-a851-cda156c6d487",
   "metadata": {},
   "outputs": [
    {
     "name": "stdout",
     "output_type": "stream",
     "text": [
      "[<Row(101, 'Kenny', 'Bobien', ['Men in Black III', 'Home Alone'], 4300.64, 'http://someimage.com', '1964-09-18', True)>, <Row(101, 'Sara', 'Devine', ['Men in Black III', 'Home Alone'], 4300.64, 'http://someimage.com', '1964-09-18', True)>, <Row(101, 'Robert', 'Owens', ['Men in Black III', 'Home Alone'], 4300.64, 'http://someimage.com', '1964-09-18', True)>]\n"
     ]
    }
   ],
   "source": [
    "print(persons_row_list)"
   ]
  },
  {
   "cell_type": "code",
   "execution_count": 29,
   "id": "9a476388-66e8-4b36-a0ec-044c563e432d",
   "metadata": {},
   "outputs": [
    {
     "data": {
      "text/plain": [
       "'Robert'"
      ]
     },
     "execution_count": 29,
     "metadata": {},
     "output_type": "execute_result"
    }
   ],
   "source": [
    "person_row[1]"
   ]
  },
  {
   "cell_type": "code",
   "execution_count": 30,
   "id": "955c30f5-6026-4847-b8eb-3f8d43f2af64",
   "metadata": {},
   "outputs": [],
   "source": [
    "new_persons_df = spark.createDataFrame(persons_row_list,\n",
    "                                       ['id', 'first_name', 'fav_movies', 'salary',\n",
    "                                        'image_url', 'date_of_birth', 'active'])\n",
    "                                                          "
   ]
  },
  {
   "cell_type": "code",
   "execution_count": 31,
   "id": "4e4b74f6-5e42-468f-b662-c998cc222d32",
   "metadata": {},
   "outputs": [
    {
     "name": "stdout",
     "output_type": "stream",
     "text": [
      "+---+----------+---------+--------------------+------------------+--------------------+-------------+------+\n",
      "| id|first_name|last_name|          fav_movies|            salary|           image_url|date_of_birth|active|\n",
      "+---+----------+---------+--------------------+------------------+--------------------+-------------+------+\n",
      "|101|      Sara|   Devine|[Men in Black III...|           4300.64|http://someimage.com|   1964-09-18|  true|\n",
      "|101|     Kenny|   Bobien|[Men in Black III...|           4300.64|http://someimage.com|   1964-09-18|  true|\n",
      "|101|    Robert|    Owens|[Men in Black III...|           4300.64|http://someimage.com|   1964-09-18|  true|\n",
      "|100|    Virgie| Domanski|[Horseman, The, S...| 2165.929931640625|http://dummyimage...|   2002-01-05|  true|\n",
      "| 99|   Rozalie|   Wannop|[Suddenly, The No...|1259.6400146484375|http://dummyimage...|   1997-03-25| false|\n",
      "| 98|     Davin|     Labb|[Viva Riva!, Kill...| 1452.739990234375|http://dummyimage...|   1988-01-27|  true|\n",
      "| 97|      Rodi|   Farnan|[Code, The (Menta...|   2325.8798828125|http://dummyimage...|   1972-01-04| false|\n",
      "| 96|       Dew| Coopland|              [Rush]|  2725.56005859375|http://dummyimage...|   1986-11-14| false|\n",
      "| 95|      Cobb|  MacLure|[Storage 24, His ...|1621.1700439453125|http://dummyimage...|   1994-06-28| false|\n",
      "| 94|    Bennie|   Knight|[House on Carroll...| 2370.239990234375|http://dummyimage...|   1977-08-27| false|\n",
      "+---+----------+---------+--------------------+------------------+--------------------+-------------+------+\n",
      "only showing top 10 rows\n",
      "\n"
     ]
    }
   ],
   "source": [
    "add_person_df = persons_df.union(new_persons_df)\n",
    "add_person_df.sort(desc('id')).show(10)"
   ]
  },
  {
   "cell_type": "markdown",
   "id": "27ace2e3-6f75-480c-8128-149ec730df71",
   "metadata": {},
   "source": [
    "## Adding, Renaming, and Dropping Columns"
   ]
  },
  {
   "cell_type": "code",
   "execution_count": 32,
   "id": "ea49f469-79b8-4c7b-8458-36041259bfd1",
   "metadata": {},
   "outputs": [],
   "source": [
    "from pyspark.sql.functions import round"
   ]
  },
  {
   "cell_type": "code",
   "execution_count": 33,
   "id": "326a0b7b-81be-428b-9d9e-82b2fe1d8a66",
   "metadata": {},
   "outputs": [
    {
     "name": "stdout",
     "output_type": "stream",
     "text": [
      "+---+----------+---------+--------------------+-------+--------------------+-------------+------+------------------+\n",
      "| id|first_name|last_name|          fav_movies| salary|           image_url|date_of_birth|active|   salary_increase|\n",
      "+---+----------+---------+--------------------+-------+--------------------+-------------+------+------------------+\n",
      "|  1|     Drucy|    Poppy|  [I giorni contati]|1463.36|http://dummyimage...|   1991-02-16|  true|1609.6959838867188|\n",
      "|  2|   Emelyne|    Blaza|[Musketeer, The, ...|3006.04|http://dummyimage...|   1991-11-02| false|  3306.64404296875|\n",
      "|  3|       Max|   Rettie|[The Forgotten Sp...|1422.88|http://dummyimage...|   1990-03-03| false|1565.1680053710938|\n",
      "|  4|    Ilario|     Kean|[Up Close and Per...|3561.36|http://dummyimage...|   1987-06-09|  true|3917.4961181640624|\n",
      "|  5|     Toddy|   Drexel|[Walk in the Clou...|4934.87|http://dummyimage...|   1992-10-28|  true|  5428.35712890625|\n",
      "|  6|    Oswald| Petrolli|[Wing and the Thi...|1153.23|http://dummyimage...|   1986-09-02| false| 1268.552978515625|\n",
      "|  7|    Adrian|   Clarey|[Walking Tall, Pa...|1044.73|http://dummyimage...|   1971-08-24| false| 1149.202978515625|\n",
      "|  8|  Dominica|  Goodnow|    [Hearts Divided]|1147.76|http://dummyimage...|   1973-08-27| false|1262.5360107421875|\n",
      "|  9|     Emory|  Slocomb|[Snake and Crane ...|1082.11|http://dummyimage...|   1974-06-08|  true|1190.3209838867188|\n",
      "| 10|  Jeremias|     Bode|[Farewell to Arms...|3472.63|http://dummyimage...|   1997-08-02|  true|  3819.89287109375|\n",
      "+---+----------+---------+--------------------+-------+--------------------+-------------+------+------------------+\n",
      "only showing top 10 rows\n",
      "\n"
     ]
    }
   ],
   "source": [
    "aug_persons_df1 = persons_df.withColumn('salary_increase', expr('salary * .10 + salary'))\n",
    "aug_persons_df1.show(10)"
   ]
  },
  {
   "cell_type": "code",
   "execution_count": 34,
   "id": "99c2deff-6fe1-4e85-a833-356ad12e5800",
   "metadata": {},
   "outputs": [
    {
     "data": {
      "text/plain": [
       "['id',\n",
       " 'first_name',\n",
       " 'last_name',\n",
       " 'fav_movies',\n",
       " 'salary',\n",
       " 'image_url',\n",
       " 'date_of_birth',\n",
       " 'active',\n",
       " 'salary_increase']"
      ]
     },
     "execution_count": 34,
     "metadata": {},
     "output_type": "execute_result"
    }
   ],
   "source": [
    "aug_persons_df1.columns"
   ]
  },
  {
   "cell_type": "code",
   "execution_count": 35,
   "id": "3f3056bd-5193-4c91-8ded-cc8d20a62851",
   "metadata": {},
   "outputs": [],
   "source": [
    "aug_persons_df2 = (aug_persons_df1\n",
    "                   .withColumn('birth_year', year('date_of_birth'))\n",
    "                   .withColumnRenamed('fav_movies', 'movies')\n",
    "                   .withColumn('salary_x10', round(col('salary_increase'), 2))\n",
    "                   .drop('salary_increase'))"
   ]
  },
  {
   "cell_type": "code",
   "execution_count": 36,
   "id": "8d80cf68-cfec-423c-b6fd-1bc691550308",
   "metadata": {},
   "outputs": [
    {
     "name": "stdout",
     "output_type": "stream",
     "text": [
      "+---+----------+---------+--------------------+-------+--------------------+-------------+------+----------+----------+\n",
      "| id|first_name|last_name|              movies| salary|           image_url|date_of_birth|active|birth_year|salary_x10|\n",
      "+---+----------+---------+--------------------+-------+--------------------+-------------+------+----------+----------+\n",
      "|  1|     Drucy|    Poppy|  [I giorni contati]|1463.36|http://dummyimage...|   1991-02-16|  true|      1991|    1609.7|\n",
      "|  2|   Emelyne|    Blaza|[Musketeer, The, ...|3006.04|http://dummyimage...|   1991-11-02| false|      1991|   3306.64|\n",
      "|  3|       Max|   Rettie|[The Forgotten Sp...|1422.88|http://dummyimage...|   1990-03-03| false|      1990|   1565.17|\n",
      "|  4|    Ilario|     Kean|[Up Close and Per...|3561.36|http://dummyimage...|   1987-06-09|  true|      1987|    3917.5|\n",
      "|  5|     Toddy|   Drexel|[Walk in the Clou...|4934.87|http://dummyimage...|   1992-10-28|  true|      1992|   5428.36|\n",
      "|  6|    Oswald| Petrolli|[Wing and the Thi...|1153.23|http://dummyimage...|   1986-09-02| false|      1986|   1268.55|\n",
      "|  7|    Adrian|   Clarey|[Walking Tall, Pa...|1044.73|http://dummyimage...|   1971-08-24| false|      1971|    1149.2|\n",
      "|  8|  Dominica|  Goodnow|    [Hearts Divided]|1147.76|http://dummyimage...|   1973-08-27| false|      1973|   1262.54|\n",
      "|  9|     Emory|  Slocomb|[Snake and Crane ...|1082.11|http://dummyimage...|   1974-06-08|  true|      1974|   1190.32|\n",
      "| 10|  Jeremias|     Bode|[Farewell to Arms...|3472.63|http://dummyimage...|   1997-08-02|  true|      1997|   3819.89|\n",
      "+---+----------+---------+--------------------+-------+--------------------+-------------+------+----------+----------+\n",
      "only showing top 10 rows\n",
      "\n"
     ]
    }
   ],
   "source": [
    "aug_persons_df2.show(10)"
   ]
  },
  {
   "cell_type": "markdown",
   "id": "0c33e9fe-9d2d-4ee5-9213-21aacae4f747",
   "metadata": {},
   "source": [
    "## Working with missing or bad data"
   ]
  },
  {
   "cell_type": "code",
   "execution_count": 37,
   "id": "d8cd3dc8-4953-42ba-b300-2bacad2001ff",
   "metadata": {},
   "outputs": [
    {
     "name": "stdout",
     "output_type": "stream",
     "text": [
      "+--------------+--------------------+-------------+\n",
      "|    actor_name|         movie_title|produced_year|\n",
      "+--------------+--------------------+-------------+\n",
      "|          null|                null|         null|\n",
      "|          null|                null|         2020|\n",
      "|      John Doe|       Awesome Movie|         null|\n",
      "|          null|       Awesome Movie|         2021|\n",
      "|     Mary Jane|                null|         2019|\n",
      "|Vikter Duplaix|Not another teen ...|         2001|\n",
      "+--------------+--------------------+-------------+\n",
      "\n"
     ]
    }
   ],
   "source": [
    "bad_movies_list = [Row(None, None, None),\n",
    "                   Row(None, None, 2020),\n",
    "                   Row(\"John Doe\", \"Awesome Movie\", None),\n",
    "                   Row(None, \"Awesome Movie\", 2021),\n",
    "                   Row(\"Mary Jane\", None, 2019),\n",
    "                   Row(\"Vikter Duplaix\", \"Not another teen movie\", 2001)]\n",
    "\n",
    "bad_movies_columns = ['actor_name', 'movie_title', 'produced_year']\n",
    "\n",
    "bad_movies_df = spark.createDataFrame(bad_movies_list, bad_movies_columns)\n",
    "bad_movies_df.show(10)"
   ]
  },
  {
   "cell_type": "code",
   "execution_count": 38,
   "id": "50f5a67a-103c-4924-9fdc-119d7a0f2299",
   "metadata": {},
   "outputs": [
    {
     "name": "stdout",
     "output_type": "stream",
     "text": [
      "+--------------+--------------------+-------------+\n",
      "|    actor_name|         movie_title|produced_year|\n",
      "+--------------+--------------------+-------------+\n",
      "|Vikter Duplaix|Not another teen ...|         2001|\n",
      "+--------------+--------------------+-------------+\n",
      "\n"
     ]
    }
   ],
   "source": [
    "bad_movies_df.na.drop().show() # Drops every row that has a null value"
   ]
  },
  {
   "cell_type": "code",
   "execution_count": 39,
   "id": "e5f689dd-5efd-45a1-8aff-4b15a6521233",
   "metadata": {},
   "outputs": [
    {
     "name": "stdout",
     "output_type": "stream",
     "text": [
      "+--------------+--------------------+-------------+\n",
      "|    actor_name|         movie_title|produced_year|\n",
      "+--------------+--------------------+-------------+\n",
      "|Vikter Duplaix|Not another teen ...|         2001|\n",
      "+--------------+--------------------+-------------+\n",
      "\n"
     ]
    }
   ],
   "source": [
    "bad_movies_df.na.drop('any').show() # does the same thing as above"
   ]
  },
  {
   "cell_type": "code",
   "execution_count": 40,
   "id": "6153310f-e1a7-4be6-adeb-eeb396876bcf",
   "metadata": {},
   "outputs": [
    {
     "name": "stdout",
     "output_type": "stream",
     "text": [
      "+--------------+--------------------+-------------+\n",
      "|    actor_name|         movie_title|produced_year|\n",
      "+--------------+--------------------+-------------+\n",
      "|          null|                null|         2020|\n",
      "|      John Doe|       Awesome Movie|         null|\n",
      "|          null|       Awesome Movie|         2021|\n",
      "|     Mary Jane|                null|         2019|\n",
      "|Vikter Duplaix|Not another teen ...|         2001|\n",
      "+--------------+--------------------+-------------+\n",
      "\n"
     ]
    }
   ],
   "source": [
    "bad_movies_df.na.drop('all').show() # drops rows where every value in the row is null"
   ]
  },
  {
   "cell_type": "code",
   "execution_count": 41,
   "id": "096cbe13-891d-4a49-84e3-e7724fbd45d2",
   "metadata": {},
   "outputs": [
    {
     "name": "stdout",
     "output_type": "stream",
     "text": [
      "+--------------+--------------------+-------------+\n",
      "|    actor_name|         movie_title|produced_year|\n",
      "+--------------+--------------------+-------------+\n",
      "|      John Doe|       Awesome Movie|         null|\n",
      "|     Mary Jane|                null|         2019|\n",
      "|Vikter Duplaix|Not another teen ...|         2001|\n",
      "+--------------+--------------------+-------------+\n",
      "\n"
     ]
    }
   ],
   "source": [
    "bad_movies_df.filter(col('actor_name').isNull() != True).show() # drops all rows with null for actor_name"
   ]
  },
  {
   "cell_type": "code",
   "execution_count": 42,
   "id": "8db8f048-431f-4c6a-a423-d1b464031ff2",
   "metadata": {},
   "outputs": [
    {
     "name": "stdout",
     "output_type": "stream",
     "text": [
      "+----------+-------------+-------------+\n",
      "|actor_name|  movie_title|produced_year|\n",
      "+----------+-------------+-------------+\n",
      "|      null|         null|         null|\n",
      "|      null|         null|         2020|\n",
      "|      null|Awesome Movie|         2021|\n",
      "+----------+-------------+-------------+\n",
      "\n"
     ]
    }
   ],
   "source": [
    "bad_movies_df.filter(col('actor_name').isNull() != False).show() # drops all rows with a value for actor"
   ]
  },
  {
   "cell_type": "code",
   "execution_count": 43,
   "id": "58a49a4c-a177-4ac5-81a1-6d2c90d37250",
   "metadata": {},
   "outputs": [
    {
     "name": "stdout",
     "output_type": "stream",
     "text": [
      "+-------+-----------------+\n",
      "|summary|    produced_year|\n",
      "+-------+-----------------+\n",
      "|  count|                4|\n",
      "|   mean|          2015.25|\n",
      "| stddev|9.535023160258536|\n",
      "|    min|             2001|\n",
      "|    max|             2021|\n",
      "+-------+-----------------+\n",
      "\n"
     ]
    }
   ],
   "source": [
    "bad_movies_df.describe('produced_year').show()"
   ]
  },
  {
   "cell_type": "markdown",
   "id": "bd53fbee-f751-4f85-bee8-f8abfb95f823",
   "metadata": {},
   "source": [
    "## Working with user defined functions -- try to avoid using user defined functions"
   ]
  },
  {
   "cell_type": "code",
   "execution_count": 44,
   "id": "ac494713-6a14-4825-a46e-1260037d790d",
   "metadata": {},
   "outputs": [],
   "source": [
    "from pyspark.sql.functions import udf\n",
    "grades = [('John', 90), ('George', 60), ('Mary', 80)]"
   ]
  },
  {
   "cell_type": "code",
   "execution_count": 45,
   "id": "87a7844d-dd53-430e-8c8e-69fd188a0d86",
   "metadata": {},
   "outputs": [],
   "source": [
    "grades_columns = ['names', 'scores']"
   ]
  },
  {
   "cell_type": "code",
   "execution_count": 46,
   "id": "9f34f4ba-932c-4481-900a-acd857401066",
   "metadata": {},
   "outputs": [
    {
     "name": "stdout",
     "output_type": "stream",
     "text": [
      "+------+------+\n",
      "| names|scores|\n",
      "+------+------+\n",
      "|  John|    90|\n",
      "|George|    60|\n",
      "|  Mary|    80|\n",
      "+------+------+\n",
      "\n"
     ]
    }
   ],
   "source": [
    "grades_df = spark.createDataFrame(grades, schema=grades_columns)\n",
    "grades_df.show()"
   ]
  },
  {
   "cell_type": "code",
   "execution_count": 47,
   "id": "cd3c1d04-5b4d-4ede-95ce-bfe47fc99698",
   "metadata": {},
   "outputs": [],
   "source": [
    "def letter_grade(grade_num):\n",
    "    grade = ''\n",
    "    if grade_num >= 90:\n",
    "        grade = 'A'\n",
    "    elif grade_num >= 80:\n",
    "        grade = 'B'\n",
    "    elif grade_num >= 70:\n",
    "        grade = 'C'\n",
    "    elif grade_num < 70:\n",
    "        grade = 'F'\n",
    "    return grade"
   ]
  },
  {
   "cell_type": "code",
   "execution_count": 48,
   "id": "25c6e3b5-0fd1-4dda-a247-beba4642da9e",
   "metadata": {},
   "outputs": [],
   "source": [
    "letter_gradeudf = udf(letter_grade)"
   ]
  },
  {
   "cell_type": "code",
   "execution_count": 49,
   "id": "d88ede60-228f-4b64-813c-de525e5b58e9",
   "metadata": {},
   "outputs": [
    {
     "name": "stdout",
     "output_type": "stream",
     "text": [
      "+------+------+-----+\n",
      "| names|scores|grade|\n",
      "+------+------+-----+\n",
      "|  John|    90|    A|\n",
      "|George|    60|    F|\n",
      "|  Mary|    80|    B|\n",
      "+------+------+-----+\n",
      "\n"
     ]
    }
   ],
   "source": [
    "grades_df.select('names', 'scores', letter_gradeudf(col('scores')).alias('grade')).show()\n"
   ]
  },
  {
   "cell_type": "markdown",
   "id": "c6cb1082-79e6-4539-9be1-c9054344d969",
   "metadata": {},
   "source": [
    "## Sales Challenge Part 2"
   ]
  },
  {
   "cell_type": "markdown",
   "id": "00b096e1-3ee9-45bb-a019-b901c788e279",
   "metadata": {},
   "source": [
    "## Getting the sales data and reading it into sales_df"
   ]
  },
  {
   "cell_type": "code",
   "execution_count": 50,
   "id": "c2b8f9cc-f553-46de-ac32-a8ccfc1a95a2",
   "metadata": {},
   "outputs": [],
   "source": [
    "path_to_sales = ['data/salesdata/Sales_April_2019.csv',\n",
    "                'data/salesdata/Sales_August_2019.csv',\n",
    "                'data/salesdata/Sales_December_2019.csv',\n",
    "                'data/salesdata/Sales_February_2019.csv',\n",
    "                'data/salesdata/Sales_January_2019.csv',\n",
    "                'data/salesdata/Sales_July_2019.csv',\n",
    "                'data/salesdata/Sales_June_2019.csv',\n",
    "                'data/salesdata/Sales_March_2019.csv',\n",
    "                'data/salesdata/Sales_May_2019.csv',\n",
    "                'data/salesdata/Sales_November_2019.csv',\n",
    "                'data/salesdata/Sales_October_2019.csv',\n",
    "                'data/salesdata/Sales_September_2019.csv']\n",
    "\n",
    "sales_df = spark.read.options(header=True).csv(path_to_sales)"
   ]
  },
  {
   "cell_type": "markdown",
   "id": "0f0df9ec-03d9-4e89-8332-56ee56d47f2b",
   "metadata": {},
   "source": [
    "## Dropping the rows with all null values"
   ]
  },
  {
   "cell_type": "code",
   "execution_count": 51,
   "id": "18d9a88c-978b-4aec-a53e-d7eb8696a408",
   "metadata": {},
   "outputs": [
    {
     "data": {
      "text/plain": [
       "0"
      ]
     },
     "execution_count": 51,
     "metadata": {},
     "output_type": "execute_result"
    }
   ],
   "source": [
    "sales_df = sales_df.na.drop()\n",
    "sales_df.filter(col('Product').isNull() == True).count()"
   ]
  },
  {
   "cell_type": "markdown",
   "id": "bb858f00-dbe2-4752-b432-820991c0385f",
   "metadata": {},
   "source": [
    "## Filtering out the bad rows and setting the city and state columns"
   ]
  },
  {
   "cell_type": "code",
   "execution_count": 52,
   "id": "b125b8f0-3250-4e4e-bccd-cb35b8f96cbe",
   "metadata": {},
   "outputs": [
    {
     "name": "stdout",
     "output_type": "stream",
     "text": [
      "+--------+--------------------+----------------+----------+--------------+--------------------+--------------+---------+\n",
      "|Order ID|             Product|Quantity Ordered|Price Each|    Order Date|    Purchase Address|          City|    State|\n",
      "+--------+--------------------+----------------+----------+--------------+--------------------+--------------+---------+\n",
      "|  295665|  Macbook Pro Laptop|               1|      1700|12/30/19 00:01|136 Church St, Ne...| New York City| NY 10001|\n",
      "|  295666|  LG Washing Machine|               1|     600.0|12/29/19 07:03|562 2nd St, New Y...| New York City| NY 10001|\n",
      "|  295667|USB-C Charging Cable|               1|     11.95|12/12/19 18:21|277 Main St, New ...| New York City| NY 10001|\n",
      "|  295668|    27in FHD Monitor|               1|    149.99|12/22/19 15:13|410 6th St, San F...| San Francisco| CA 94016|\n",
      "|  295669|USB-C Charging Cable|               1|     11.95|12/18/19 12:38|43 Hill St, Atlan...|       Atlanta| GA 30301|\n",
      "|  295670|AA Batteries (4-p...|               1|      3.84|12/31/19 22:58|200 Jefferson St,...| New York City| NY 10001|\n",
      "|  295671|USB-C Charging Cable|               1|     11.95|12/16/19 15:10|928 12th St, Port...|      Portland| OR 97035|\n",
      "|  295672|USB-C Charging Cable|               2|     11.95|12/13/19 09:29|813 Hickory St, D...|        Dallas| TX 75001|\n",
      "|  295673|Bose SoundSport H...|               1|     99.99|12/15/19 23:26|718 Wilson St, Da...|        Dallas| TX 75001|\n",
      "|  295674|AAA Batteries (4-...|               4|      2.99|12/28/19 11:51|77 7th St, Dallas...|        Dallas| TX 75001|\n",
      "|  295675|USB-C Charging Cable|               2|     11.95|12/13/19 13:52|594 1st St, San F...| San Francisco| CA 94016|\n",
      "|  295676|     ThinkPad Laptop|               1|    999.99|12/28/19 17:19|410 Lincoln St, L...|   Los Angeles| CA 90001|\n",
      "|  295677|AA Batteries (4-p...|               2|      3.84|12/20/19 19:19|866 Pine St, Bost...|        Boston| MA 02215|\n",
      "|  295678|AAA Batteries (4-...|               2|      2.99|12/06/19 09:38|187 Lincoln St, D...|        Dallas| TX 75001|\n",
      "|  295679|USB-C Charging Cable|               1|     11.95|12/25/19 09:39|902 2nd St, Dalla...|        Dallas| TX 75001|\n",
      "|  295680|Lightning Chargin...|               1|     14.95|12/01/19 14:30|338 Main St, Aust...|        Austin| TX 73301|\n",
      "|  295681|        Google Phone|               1|       600|12/25/19 12:37|79 Elm St, Boston...|        Boston| MA 02215|\n",
      "|  295681|USB-C Charging Cable|               1|     11.95|12/25/19 12:37|79 Elm St, Boston...|        Boston| MA 02215|\n",
      "|  295681|Bose SoundSport H...|               1|     99.99|12/25/19 12:37|79 Elm St, Boston...|        Boston| MA 02215|\n",
      "|  295681|    Wired Headphones|               1|     11.99|12/25/19 12:37|79 Elm St, Boston...|        Boston| MA 02215|\n",
      "+--------+--------------------+----------------+----------+--------------+--------------------+--------------+---------+\n",
      "only showing top 20 rows\n",
      "\n"
     ]
    }
   ],
   "source": [
    "\n",
    "from pyspark.sql.functions import split, substring\n",
    "sales_df = sales_df.filter(col('Order ID') != 'Order ID')\n",
    "\n",
    "sales_df = sales_df.withColumn('City', split(col('Purchase Address'), ',').getItem(1))\n",
    "sales_df = sales_df.withColumn('State', split(col('Purchase Address'), ',').getItem(2))\n",
    "sales_df.show()"
   ]
  },
  {
   "cell_type": "markdown",
   "id": "4e93ed84-2e4f-4984-91c9-6de5f0f04eb4",
   "metadata": {},
   "source": [
    "## Setting the state column equal to state abbr. and renaming columns"
   ]
  },
  {
   "cell_type": "code",
   "execution_count": 53,
   "id": "72ad9ae0-a035-48a2-8924-9c26b3f66476",
   "metadata": {},
   "outputs": [
    {
     "name": "stdout",
     "output_type": "stream",
     "text": [
      "+-------+--------------------+--------+------+--------------+--------------------+-------------+-----+\n",
      "|OrderID|             Product|Quantity| Price|     OrderDate|        StoreAddress|         City|State|\n",
      "+-------+--------------------+--------+------+--------------+--------------------+-------------+-----+\n",
      "| 295665|  Macbook Pro Laptop|       1|  1700|12/30/19 00:01|136 Church St, Ne...|New York City|  NY |\n",
      "| 295666|  LG Washing Machine|       1| 600.0|12/29/19 07:03|562 2nd St, New Y...|New York City|  NY |\n",
      "| 295667|USB-C Charging Cable|       1| 11.95|12/12/19 18:21|277 Main St, New ...|New York City|  NY |\n",
      "| 295668|    27in FHD Monitor|       1|149.99|12/22/19 15:13|410 6th St, San F...|San Francisco|  CA |\n",
      "| 295669|USB-C Charging Cable|       1| 11.95|12/18/19 12:38|43 Hill St, Atlan...|      Atlanta|  GA |\n",
      "| 295670|AA Batteries (4-p...|       1|  3.84|12/31/19 22:58|200 Jefferson St,...|New York City|  NY |\n",
      "| 295671|USB-C Charging Cable|       1| 11.95|12/16/19 15:10|928 12th St, Port...|     Portland|  OR |\n",
      "| 295672|USB-C Charging Cable|       2| 11.95|12/13/19 09:29|813 Hickory St, D...|       Dallas|  TX |\n",
      "| 295673|Bose SoundSport H...|       1| 99.99|12/15/19 23:26|718 Wilson St, Da...|       Dallas|  TX |\n",
      "| 295674|AAA Batteries (4-...|       4|  2.99|12/28/19 11:51|77 7th St, Dallas...|       Dallas|  TX |\n",
      "| 295675|USB-C Charging Cable|       2| 11.95|12/13/19 13:52|594 1st St, San F...|San Francisco|  CA |\n",
      "| 295676|     ThinkPad Laptop|       1|999.99|12/28/19 17:19|410 Lincoln St, L...|  Los Angeles|  CA |\n",
      "| 295677|AA Batteries (4-p...|       2|  3.84|12/20/19 19:19|866 Pine St, Bost...|       Boston|  MA |\n",
      "| 295678|AAA Batteries (4-...|       2|  2.99|12/06/19 09:38|187 Lincoln St, D...|       Dallas|  TX |\n",
      "| 295679|USB-C Charging Cable|       1| 11.95|12/25/19 09:39|902 2nd St, Dalla...|       Dallas|  TX |\n",
      "| 295680|Lightning Chargin...|       1| 14.95|12/01/19 14:30|338 Main St, Aust...|       Austin|  TX |\n",
      "| 295681|        Google Phone|       1|   600|12/25/19 12:37|79 Elm St, Boston...|       Boston|  MA |\n",
      "| 295681|USB-C Charging Cable|       1| 11.95|12/25/19 12:37|79 Elm St, Boston...|       Boston|  MA |\n",
      "| 295681|Bose SoundSport H...|       1| 99.99|12/25/19 12:37|79 Elm St, Boston...|       Boston|  MA |\n",
      "| 295681|    Wired Headphones|       1| 11.99|12/25/19 12:37|79 Elm St, Boston...|       Boston|  MA |\n",
      "+-------+--------------------+--------+------+--------------+--------------------+-------------+-----+\n",
      "only showing top 20 rows\n",
      "\n"
     ]
    }
   ],
   "source": [
    "sales_df = (sales_df.withColumn('State', substring(sales_df.State, 2, 3))\n",
    "            .withColumn('City', substring(sales_df.City, 2, 20))\n",
    "            .withColumnRenamed('Order ID', 'OrderID')\n",
    "            .withColumnRenamed('Quantity Ordered', 'Quantity')\n",
    "            .withColumnRenamed('Order Date', 'OrderDate')\n",
    "            .withColumnRenamed('Purchase Address', 'StoreAddress')\n",
    "            .withColumnRenamed('Price Each', 'Price'))\n",
    "\n",
    "sales_df.show()\n",
    "#df_states = df_states.withColumn('states_Name', trim(df_states.state_name))"
   ]
  },
  {
   "cell_type": "code",
   "execution_count": 54,
   "id": "0be5fb0f-66b3-4049-ab85-b5b3cf7844f7",
   "metadata": {},
   "outputs": [
    {
     "name": "stdout",
     "output_type": "stream",
     "text": [
      "+-------+--------------------+--------+------+--------------+--------------------+-------------+-----+\n",
      "|OrderID|             Product|Quantity| Price|     OrderDate|        StoreAddress|         City|State|\n",
      "+-------+--------------------+--------+------+--------------+--------------------+-------------+-----+\n",
      "| 295665|  Macbook Pro Laptop|       1|  1700|12/30/19 00:01|136 Church St, Ne...|New York City|  NY |\n",
      "| 295666|  LG Washing Machine|       1| 600.0|12/29/19 07:03|562 2nd St, New Y...|New York City|  NY |\n",
      "| 295667|USB-C Charging Cable|       1| 11.95|12/12/19 18:21|277 Main St, New ...|New York City|  NY |\n",
      "| 295668|    27in FHD Monitor|       1|149.99|12/22/19 15:13|410 6th St, San F...|San Francisco|  CA |\n",
      "| 295669|USB-C Charging Cable|       1| 11.95|12/18/19 12:38|43 Hill St, Atlan...|      Atlanta|  GA |\n",
      "| 295670|AA Batteries (4-p...|       1|  3.84|12/31/19 22:58|200 Jefferson St,...|New York City|  NY |\n",
      "| 295671|USB-C Charging Cable|       1| 11.95|12/16/19 15:10|928 12th St, Port...|     Portland|  OR |\n",
      "| 295672|USB-C Charging Cable|       2| 11.95|12/13/19 09:29|813 Hickory St, D...|       Dallas|  TX |\n",
      "| 295673|Bose SoundSport H...|       1| 99.99|12/15/19 23:26|718 Wilson St, Da...|       Dallas|  TX |\n",
      "| 295674|AAA Batteries (4-...|       4|  2.99|12/28/19 11:51|77 7th St, Dallas...|       Dallas|  TX |\n",
      "| 295675|USB-C Charging Cable|       2| 11.95|12/13/19 13:52|594 1st St, San F...|San Francisco|  CA |\n",
      "| 295676|     ThinkPad Laptop|       1|999.99|12/28/19 17:19|410 Lincoln St, L...|  Los Angeles|  CA |\n",
      "| 295677|AA Batteries (4-p...|       2|  3.84|12/20/19 19:19|866 Pine St, Bost...|       Boston|  MA |\n",
      "| 295678|AAA Batteries (4-...|       2|  2.99|12/06/19 09:38|187 Lincoln St, D...|       Dallas|  TX |\n",
      "| 295679|USB-C Charging Cable|       1| 11.95|12/25/19 09:39|902 2nd St, Dalla...|       Dallas|  TX |\n",
      "| 295680|Lightning Chargin...|       1| 14.95|12/01/19 14:30|338 Main St, Aust...|       Austin|  TX |\n",
      "| 295681|        Google Phone|       1|   600|12/25/19 12:37|79 Elm St, Boston...|       Boston|  MA |\n",
      "| 295681|USB-C Charging Cable|       1| 11.95|12/25/19 12:37|79 Elm St, Boston...|       Boston|  MA |\n",
      "| 295681|Bose SoundSport H...|       1| 99.99|12/25/19 12:37|79 Elm St, Boston...|       Boston|  MA |\n",
      "| 295681|    Wired Headphones|       1| 11.99|12/25/19 12:37|79 Elm St, Boston...|       Boston|  MA |\n",
      "+-------+--------------------+--------+------+--------------+--------------------+-------------+-----+\n",
      "only showing top 20 rows\n",
      "\n"
     ]
    }
   ],
   "source": [
    "from pyspark.sql.functions import trim, ltrim, rtrim\n",
    "\n",
    "(sales_df.withColumn('City', trim(sales_df.City))\n",
    "        .withColumn('State', trim(sales_df.State)))\n",
    "\n",
    "sales_df.show()"
   ]
  },
  {
   "cell_type": "markdown",
   "id": "0b2d7314-00de-4a7f-b9c4-98250d30fae4",
   "metadata": {},
   "source": [
    "## Changing the data types of columns"
   ]
  },
  {
   "cell_type": "code",
   "execution_count": 55,
   "id": "6bc04a23-d9f5-4b66-9c85-557b7e579b43",
   "metadata": {},
   "outputs": [
    {
     "name": "stdout",
     "output_type": "stream",
     "text": [
      "+-------+--------------------+--------+------+-------------------+--------------------+-------------+-----+\n",
      "|OrderID|             Product|Quantity| Price|          OrderDate|        StoreAddress|         City|State|\n",
      "+-------+--------------------+--------+------+-------------------+--------------------+-------------+-----+\n",
      "| 295665|  Macbook Pro Laptop|       1|1700.0|2019-12-30 00:01:00|136 Church St, Ne...|New York City|  NY |\n",
      "| 295666|  LG Washing Machine|       1| 600.0|2019-12-29 07:03:00|562 2nd St, New Y...|New York City|  NY |\n",
      "| 295667|USB-C Charging Cable|       1| 11.95|2019-12-12 18:21:00|277 Main St, New ...|New York City|  NY |\n",
      "| 295668|    27in FHD Monitor|       1|149.99|2019-12-22 15:13:00|410 6th St, San F...|San Francisco|  CA |\n",
      "| 295669|USB-C Charging Cable|       1| 11.95|2019-12-18 12:38:00|43 Hill St, Atlan...|      Atlanta|  GA |\n",
      "| 295670|AA Batteries (4-p...|       1|  3.84|2019-12-31 22:58:00|200 Jefferson St,...|New York City|  NY |\n",
      "| 295671|USB-C Charging Cable|       1| 11.95|2019-12-16 15:10:00|928 12th St, Port...|     Portland|  OR |\n",
      "| 295672|USB-C Charging Cable|       2| 11.95|2019-12-13 09:29:00|813 Hickory St, D...|       Dallas|  TX |\n",
      "| 295673|Bose SoundSport H...|       1| 99.99|2019-12-15 23:26:00|718 Wilson St, Da...|       Dallas|  TX |\n",
      "| 295674|AAA Batteries (4-...|       4|  2.99|2019-12-28 11:51:00|77 7th St, Dallas...|       Dallas|  TX |\n",
      "| 295675|USB-C Charging Cable|       2| 11.95|2019-12-13 13:52:00|594 1st St, San F...|San Francisco|  CA |\n",
      "| 295676|     ThinkPad Laptop|       1|999.99|2019-12-28 17:19:00|410 Lincoln St, L...|  Los Angeles|  CA |\n",
      "| 295677|AA Batteries (4-p...|       2|  3.84|2019-12-20 19:19:00|866 Pine St, Bost...|       Boston|  MA |\n",
      "| 295678|AAA Batteries (4-...|       2|  2.99|2019-12-06 09:38:00|187 Lincoln St, D...|       Dallas|  TX |\n",
      "| 295679|USB-C Charging Cable|       1| 11.95|2019-12-25 09:39:00|902 2nd St, Dalla...|       Dallas|  TX |\n",
      "| 295680|Lightning Chargin...|       1| 14.95|2019-12-01 14:30:00|338 Main St, Aust...|       Austin|  TX |\n",
      "| 295681|        Google Phone|       1| 600.0|2019-12-25 12:37:00|79 Elm St, Boston...|       Boston|  MA |\n",
      "| 295681|USB-C Charging Cable|       1| 11.95|2019-12-25 12:37:00|79 Elm St, Boston...|       Boston|  MA |\n",
      "| 295681|Bose SoundSport H...|       1| 99.99|2019-12-25 12:37:00|79 Elm St, Boston...|       Boston|  MA |\n",
      "| 295681|    Wired Headphones|       1| 11.99|2019-12-25 12:37:00|79 Elm St, Boston...|       Boston|  MA |\n",
      "+-------+--------------------+--------+------+-------------------+--------------------+-------------+-----+\n",
      "only showing top 20 rows\n",
      "\n"
     ]
    }
   ],
   "source": [
    "from pyspark.sql.types import StringType, BooleanType, IntegerType, FloatType\n",
    "from pyspark.sql.functions import to_timestamp\n",
    "\n",
    "sales_df = (sales_df.withColumn('OrderID', col('OrderID').cast(IntegerType()))\n",
    "         .withColumn('Quantity', col('Quantity').cast(IntegerType()))\n",
    "         .withColumn('Price', col('Price').cast(FloatType()))\n",
    "         .withColumn('OrderDate', to_timestamp('OrderDate', 'MM/dd/yy HH:mm')))\n",
    "sales_df.show()"
   ]
  },
  {
   "cell_type": "markdown",
   "id": "d0fc2231-6010-4d7b-886c-8481f97ea919",
   "metadata": {},
   "source": [
    "## Adding new columns ReportYear and Month"
   ]
  },
  {
   "cell_type": "code",
   "execution_count": 56,
   "id": "2b83363a-fc44-4c86-854b-4cbd33fe620f",
   "metadata": {},
   "outputs": [
    {
     "name": "stdout",
     "output_type": "stream",
     "text": [
      "+-------+--------------------+--------+------+-------------------+--------------------+-------------+-----+----------+-----+\n",
      "|OrderID|             Product|Quantity| Price|          OrderDate|        StoreAddress|         City|State|ReportYear|Month|\n",
      "+-------+--------------------+--------+------+-------------------+--------------------+-------------+-----+----------+-----+\n",
      "| 295665|  Macbook Pro Laptop|       1|1700.0|2019-12-30 00:01:00|136 Church St, Ne...|New York City|  NY |      2019|   12|\n",
      "| 295666|  LG Washing Machine|       1| 600.0|2019-12-29 07:03:00|562 2nd St, New Y...|New York City|  NY |      2019|   12|\n",
      "| 295667|USB-C Charging Cable|       1| 11.95|2019-12-12 18:21:00|277 Main St, New ...|New York City|  NY |      2019|   12|\n",
      "| 295668|    27in FHD Monitor|       1|149.99|2019-12-22 15:13:00|410 6th St, San F...|San Francisco|  CA |      2019|   12|\n",
      "| 295669|USB-C Charging Cable|       1| 11.95|2019-12-18 12:38:00|43 Hill St, Atlan...|      Atlanta|  GA |      2019|   12|\n",
      "| 295670|AA Batteries (4-p...|       1|  3.84|2019-12-31 22:58:00|200 Jefferson St,...|New York City|  NY |      2019|   12|\n",
      "| 295671|USB-C Charging Cable|       1| 11.95|2019-12-16 15:10:00|928 12th St, Port...|     Portland|  OR |      2019|   12|\n",
      "| 295672|USB-C Charging Cable|       2| 11.95|2019-12-13 09:29:00|813 Hickory St, D...|       Dallas|  TX |      2019|   12|\n",
      "| 295673|Bose SoundSport H...|       1| 99.99|2019-12-15 23:26:00|718 Wilson St, Da...|       Dallas|  TX |      2019|   12|\n",
      "| 295674|AAA Batteries (4-...|       4|  2.99|2019-12-28 11:51:00|77 7th St, Dallas...|       Dallas|  TX |      2019|   12|\n",
      "| 295675|USB-C Charging Cable|       2| 11.95|2019-12-13 13:52:00|594 1st St, San F...|San Francisco|  CA |      2019|   12|\n",
      "| 295676|     ThinkPad Laptop|       1|999.99|2019-12-28 17:19:00|410 Lincoln St, L...|  Los Angeles|  CA |      2019|   12|\n",
      "| 295677|AA Batteries (4-p...|       2|  3.84|2019-12-20 19:19:00|866 Pine St, Bost...|       Boston|  MA |      2019|   12|\n",
      "| 295678|AAA Batteries (4-...|       2|  2.99|2019-12-06 09:38:00|187 Lincoln St, D...|       Dallas|  TX |      2019|   12|\n",
      "| 295679|USB-C Charging Cable|       1| 11.95|2019-12-25 09:39:00|902 2nd St, Dalla...|       Dallas|  TX |      2019|   12|\n",
      "| 295680|Lightning Chargin...|       1| 14.95|2019-12-01 14:30:00|338 Main St, Aust...|       Austin|  TX |      2019|   12|\n",
      "| 295681|        Google Phone|       1| 600.0|2019-12-25 12:37:00|79 Elm St, Boston...|       Boston|  MA |      2019|   12|\n",
      "| 295681|USB-C Charging Cable|       1| 11.95|2019-12-25 12:37:00|79 Elm St, Boston...|       Boston|  MA |      2019|   12|\n",
      "| 295681|Bose SoundSport H...|       1| 99.99|2019-12-25 12:37:00|79 Elm St, Boston...|       Boston|  MA |      2019|   12|\n",
      "| 295681|    Wired Headphones|       1| 11.99|2019-12-25 12:37:00|79 Elm St, Boston...|       Boston|  MA |      2019|   12|\n",
      "+-------+--------------------+--------+------+-------------------+--------------------+-------------+-----+----------+-----+\n",
      "only showing top 20 rows\n",
      "\n"
     ]
    }
   ],
   "source": [
    "sales_df = (sales_df.withColumn('ReportYear', split(col('OrderDate'), '-').getItem(0))\n",
    "         .withColumn('Month', split(col('OrderDate'), '-').getItem(1)))\n",
    "sales_df.show()"
   ]
  },
  {
   "cell_type": "markdown",
   "id": "9e471f8c-0539-43c6-b604-7816141ddb24",
   "metadata": {},
   "source": [
    "## Writing final dataframe to parquet"
   ]
  },
  {
   "cell_type": "code",
   "execution_count": 57,
   "id": "e4921964-cb26-48f1-adc1-d466347fda89",
   "metadata": {},
   "outputs": [],
   "source": [
    "sales_df.write.partitionBy('ReportYear', 'Month').mode('overwrite').parquet('sales.parquet')\n",
    "#sales_df.write.partitionBy('ReportYear', 'Month').mode('overwrite').parquet('/data/output/sales.parquet')\n",
    "#sales_df.write.csv('sales.csv')\n",
    "\n",
    "\n",
    "#sales_df.select('OrderID', 'Month').where(col('City') == 'Dallas').show()"
   ]
  },
  {
   "cell_type": "code",
   "execution_count": 58,
   "id": "68d7ca64-81f4-4587-b5d0-8b13fa9ca0c4",
   "metadata": {},
   "outputs": [
    {
     "data": {
      "text/plain": [
       "185950"
      ]
     },
     "execution_count": 58,
     "metadata": {},
     "output_type": "execute_result"
    }
   ],
   "source": [
    "sales_df.count()"
   ]
  }
 ],
 "metadata": {
  "kernelspec": {
   "display_name": "Python 3 (ipykernel)",
   "language": "python",
   "name": "python3"
  },
  "language_info": {
   "codemirror_mode": {
    "name": "ipython",
    "version": 3
   },
   "file_extension": ".py",
   "mimetype": "text/x-python",
   "name": "python",
   "nbconvert_exporter": "python",
   "pygments_lexer": "ipython3",
   "version": "3.9.7"
  }
 },
 "nbformat": 4,
 "nbformat_minor": 5
}
