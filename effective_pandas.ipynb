{
 "cells": [
  {
   "cell_type": "code",
   "execution_count": 3,
   "id": "e8de53fe-1883-4cf4-8f16-6a3e5c176edb",
   "metadata": {},
   "outputs": [],
   "source": [
    "import pandas as pd\n",
    "import numpy as np"
   ]
  },
  {
   "cell_type": "markdown",
   "id": "5c1487b0-7f6a-4270-bd00-addf013a8092",
   "metadata": {},
   "source": [
    "## Starting with series"
   ]
  },
  {
   "cell_type": "code",
   "execution_count": 2,
   "id": "f99853df-0291-4273-bd0d-8261cbdffbf9",
   "metadata": {},
   "outputs": [
    {
     "data": {
      "text/plain": [
       "Index(['Paul', 'John', 'George', 'Ringo'], dtype='object')"
      ]
     },
     "execution_count": 2,
     "metadata": {},
     "output_type": "execute_result"
    }
   ],
   "source": [
    "## Series are one dimensional -- index isnt included as the values\n",
    "\n",
    "songs2 = pd.Series([145,142,38,13],\n",
    "                   name='counts',\n",
    "                   index = ['Paul', 'John', 'George', 'Ringo'])\n",
    "                        \n",
    "songs2.index"
   ]
  },
  {
   "cell_type": "markdown",
   "id": "c9986f97-75e4-4fa5-ac9a-032bcc9c5995",
   "metadata": {},
   "source": [
    "### NaN value"
   ]
  },
  {
   "cell_type": "code",
   "execution_count": 3,
   "id": "6977bc18-7616-4ec5-aab7-c2c9ee0d24ac",
   "metadata": {},
   "outputs": [
    {
     "data": {
      "text/plain": [
       "Texas         2.0\n",
       "Oklahoma      4.0\n",
       "California    NaN\n",
       "dtype: float64"
      ]
     },
     "execution_count": 3,
     "metadata": {},
     "output_type": "execute_result"
    }
   ],
   "source": [
    "nan_series = pd.Series([2,4, np.nan],\n",
    "                       index = ['Texas', 'Oklahoma', 'California'])\n",
    "\n",
    "nan_series ## dtype is float and ints are converted to floats because nan is not supported by int64"
   ]
  },
  {
   "cell_type": "code",
   "execution_count": 4,
   "id": "b6276dd5-794e-48b2-adb6-490ff51a1986",
   "metadata": {},
   "outputs": [
    {
     "data": {
      "text/plain": [
       "2"
      ]
     },
     "execution_count": 4,
     "metadata": {},
     "output_type": "execute_result"
    }
   ],
   "source": [
    "nan_series.count() ## doesnt include the nan value"
   ]
  },
  {
   "cell_type": "code",
   "execution_count": 5,
   "id": "b0566e3a-c054-4d87-9542-57af5ad02ad6",
   "metadata": {},
   "outputs": [
    {
     "data": {
      "text/plain": [
       "3"
      ]
     },
     "execution_count": 5,
     "metadata": {},
     "output_type": "execute_result"
    }
   ],
   "source": [
    "nan_series.size ## includes the nan value"
   ]
  },
  {
   "cell_type": "markdown",
   "id": "226d849e-c59f-46d1-8dc8-ed574db7e83c",
   "metadata": {},
   "source": [
    "### Similar to numpy"
   ]
  },
  {
   "cell_type": "code",
   "execution_count": 6,
   "id": "a8cb5e54-390b-4e9d-9e90-a64c4f253759",
   "metadata": {},
   "outputs": [
    {
     "data": {
      "text/plain": [
       "142"
      ]
     },
     "execution_count": 6,
     "metadata": {},
     "output_type": "execute_result"
    }
   ],
   "source": [
    "numpy_ser = np.array([145,142,38,13])\n",
    "\n",
    "numpy_ser[1]"
   ]
  },
  {
   "cell_type": "code",
   "execution_count": 7,
   "id": "32385245-cca7-45a8-b29c-7cecf9cd45bb",
   "metadata": {},
   "outputs": [
    {
     "data": {
      "text/plain": [
       "142"
      ]
     },
     "execution_count": 7,
     "metadata": {},
     "output_type": "execute_result"
    }
   ],
   "source": [
    "songs2[1]"
   ]
  },
  {
   "cell_type": "code",
   "execution_count": 8,
   "id": "dab2a2e5-73f9-4203-ae73-3b85b93439cf",
   "metadata": {},
   "outputs": [
    {
     "data": {
      "text/plain": [
       "84.5"
      ]
     },
     "execution_count": 8,
     "metadata": {},
     "output_type": "execute_result"
    }
   ],
   "source": [
    "numpy_ser.mean()"
   ]
  },
  {
   "cell_type": "code",
   "execution_count": 9,
   "id": "eb4c34b4-db4a-4bde-b9d5-1c36051e308a",
   "metadata": {},
   "outputs": [
    {
     "data": {
      "text/plain": [
       "84.5"
      ]
     },
     "execution_count": 9,
     "metadata": {},
     "output_type": "execute_result"
    }
   ],
   "source": [
    "songs2.mean()"
   ]
  },
  {
   "cell_type": "markdown",
   "id": "52df951b-bdae-4bca-8960-45be8d0db087",
   "metadata": {},
   "source": [
    "### Filtering a series"
   ]
  },
  {
   "cell_type": "code",
   "execution_count": 10,
   "id": "cae13df4-a5f0-4a03-890d-c90bf5474174",
   "metadata": {},
   "outputs": [
    {
     "data": {
      "text/plain": [
       "Paul    145\n",
       "John    142\n",
       "Name: counts, dtype: int64"
      ]
     },
     "execution_count": 10,
     "metadata": {},
     "output_type": "execute_result"
    }
   ],
   "source": [
    "songs2[songs2 > songs2.median()]"
   ]
  },
  {
   "cell_type": "code",
   "execution_count": 11,
   "id": "d3eedc5d-f6cc-49df-a3d0-ff4243799aaa",
   "metadata": {},
   "outputs": [
    {
     "data": {
      "text/plain": [
       "Paul       True\n",
       "John       True\n",
       "George    False\n",
       "Ringo     False\n",
       "Name: counts, dtype: bool"
      ]
     },
     "execution_count": 11,
     "metadata": {},
     "output_type": "execute_result"
    }
   ],
   "source": [
    "boolean_array = songs2 > songs2.median()\n",
    "boolean_array"
   ]
  },
  {
   "cell_type": "code",
   "execution_count": 12,
   "id": "727b8f8e-2aec-4451-a8ad-a295cea61863",
   "metadata": {},
   "outputs": [
    {
     "data": {
      "text/plain": [
       "Paul    145\n",
       "John    142\n",
       "Name: counts, dtype: int64"
      ]
     },
     "execution_count": 12,
     "metadata": {},
     "output_type": "execute_result"
    }
   ],
   "source": [
    "songs2[boolean_array] ## returns the entrys that have true and drops the rest"
   ]
  },
  {
   "cell_type": "code",
   "execution_count": 13,
   "id": "a6fbb486-c566-4a9d-9371-7577f64441d2",
   "metadata": {},
   "outputs": [
    {
     "data": {
      "text/plain": [
       "array([145, 142])"
      ]
     },
     "execution_count": 13,
     "metadata": {},
     "output_type": "execute_result"
    }
   ],
   "source": [
    "numpy_ser[numpy_ser > np.median(numpy_ser)]"
   ]
  },
  {
   "cell_type": "markdown",
   "id": "b30585b0-ecf7-4fd2-a1cf-23ae04a5c318",
   "metadata": {},
   "source": [
    "### Categorical data"
   ]
  },
  {
   "cell_type": "code",
   "execution_count": 14,
   "id": "0835f24a-45ce-42e5-a0e1-61cfe214066c",
   "metadata": {},
   "outputs": [
    {
     "data": {
      "text/plain": [
       "0     m\n",
       "1     l\n",
       "2    xs\n",
       "3     s\n",
       "4    xl\n",
       "dtype: category\n",
       "Categories (5, object): ['l', 'm', 's', 'xl', 'xs']"
      ]
     },
     "execution_count": 14,
     "metadata": {},
     "output_type": "execute_result"
    }
   ],
   "source": [
    "# use less memory\n",
    "# imporve performance\n",
    "# can have ordering\n",
    "# can perform operations on categories\n",
    "\n",
    "s = pd.Series(['m', 'l', 'xs', 's', 'xl'], dtype ='category')\n",
    "s"
   ]
  },
  {
   "cell_type": "code",
   "execution_count": 15,
   "id": "67dac3c0-15b4-4e5e-a091-6e4a07b00787",
   "metadata": {},
   "outputs": [
    {
     "data": {
      "text/plain": [
       "0     True\n",
       "1     True\n",
       "2    False\n",
       "3    False\n",
       "4    False\n",
       "dtype: bool"
      ]
     },
     "execution_count": 15,
     "metadata": {},
     "output_type": "execute_result"
    }
   ],
   "source": [
    "a = pd.Series(['m', 'l', 'xs', 's', 'xl']) # begins as dtype object as default\n",
    "\n",
    "## adds ordering to categorical data s is smaller than m and l\n",
    "size_type = pd.api.types.CategoricalDtype(\n",
    "    categories = ['s', 'm', 'l'], ordered = True)\n",
    "s3 = a.astype(size_type)\n",
    "\n",
    "s3 > 's' ## returns true for data thats larger than s -- which is m and l"
   ]
  },
  {
   "cell_type": "code",
   "execution_count": 16,
   "id": "b01a47b2-e508-42a6-b9d1-61b8019f8bce",
   "metadata": {},
   "outputs": [
    {
     "data": {
      "text/plain": [
       "0     m\n",
       "1     l\n",
       "2    xs\n",
       "3     s\n",
       "4    xl\n",
       "dtype: category\n",
       "Categories (5, object): ['xs' < 's' < 'm' < 'l' < 'xl']"
      ]
     },
     "execution_count": 16,
     "metadata": {},
     "output_type": "execute_result"
    }
   ],
   "source": [
    "s.cat.reorder_categories(['xs', 's', 'm', 'l', 'xl'], ordered=True) ## must specify all the values in the series when reordering or\n",
    "                                                                    ## pandas will throw a ValueError"
   ]
  },
  {
   "cell_type": "code",
   "execution_count": 17,
   "id": "8d73df6c-087b-4f98-8472-41f8411d78b1",
   "metadata": {},
   "outputs": [
    {
     "data": {
      "text/plain": [
       "day1    100\n",
       "day3     98\n",
       "day6    101\n",
       "dtype: int64"
      ]
     },
     "execution_count": 17,
     "metadata": {},
     "output_type": "execute_result"
    }
   ],
   "source": [
    "temp_series = pd.Series([100,76,98,67,56,101,77],\n",
    "                       index = ['day1', 'day2', 'day3', 'day4', 'day5', 'day6', 'day7'])\n",
    "\n",
    "temp_series[temp_series.mean() < temp_series] ## filtering out days that have a temperature below the mean"
   ]
  },
  {
   "cell_type": "code",
   "execution_count": 18,
   "id": "28c4d883-21e6-4293-9d56-142d9ac23a4c",
   "metadata": {},
   "outputs": [
    {
     "data": {
      "text/plain": [
       "0      Blue\n",
       "1    Yellow\n",
       "2     Green\n",
       "dtype: category\n",
       "Categories (3, object): ['Blue', 'Green', 'Yellow']"
      ]
     },
     "execution_count": 18,
     "metadata": {},
     "output_type": "execute_result"
    }
   ],
   "source": [
    "colors = pd.Series(['Blue', 'Yellow', 'Green'], dtype='category')\n",
    "colors"
   ]
  },
  {
   "cell_type": "markdown",
   "id": "253e66cf-2670-4c7d-a5ba-ab2781578550",
   "metadata": {},
   "source": [
    "## Deep dive into series"
   ]
  },
  {
   "cell_type": "code",
   "execution_count": 4,
   "id": "84d44295-ca76-47e7-857a-9bc1769b117d",
   "metadata": {},
   "outputs": [
    {
     "name": "stderr",
     "output_type": "stream",
     "text": [
      "C:\\Users\\c_bal\\AppData\\Local\\Temp\\ipykernel_10876\\1525244027.py:2: DtypeWarning: Columns (70,71,72,73,74,76,79) have mixed types. Specify dtype option on import or set low_memory=False.\n",
      "  df = pd.read_csv(path)\n"
     ]
    }
   ],
   "source": [
    "path = r'C:\\data_sets\\vehicles.csv'\n",
    "df = pd.read_csv(path)"
   ]
  },
  {
   "cell_type": "code",
   "execution_count": 5,
   "id": "2e77a597-12a3-4f09-95c9-fba032163b1d",
   "metadata": {},
   "outputs": [],
   "source": [
    "city_mpg = df.city08\n",
    "highway_mpg = df.highway08"
   ]
  },
  {
   "cell_type": "code",
   "execution_count": 21,
   "id": "9aa90e85-cb8a-4a2f-bb77-4560101dbc9e",
   "metadata": {},
   "outputs": [
    {
     "data": {
      "text/plain": [
       "141"
      ]
     },
     "execution_count": 21,
     "metadata": {},
     "output_type": "execute_result"
    }
   ],
   "source": [
    "city_mpg\n",
    "l1 = [1,2,3]\n",
    "string1 = 'cole'\n",
    "len(dir(pd))"
   ]
  },
  {
   "cell_type": "code",
   "execution_count": 23,
   "id": "1d623030-e35b-4b84-a504-a2fedefd3100",
   "metadata": {},
   "outputs": [
    {
     "data": {
      "text/plain": [
       "83"
      ]
     },
     "execution_count": 23,
     "metadata": {},
     "output_type": "execute_result"
    }
   ],
   "source": [
    "seconds_series = pd.Series(pd.date_range(\"2000-01-01\", periods=3, freq=\"s\"))\n",
    "\n",
    "len(dir(seconds_series.dt))"
   ]
  },
  {
   "cell_type": "markdown",
   "id": "b559c471-d636-4cf3-8898-206cf424ad96",
   "metadata": {},
   "source": [
    "## Operators and Dunder methods"
   ]
  },
  {
   "cell_type": "code",
   "execution_count": 29,
   "id": "c58a28ff-c300-421c-888e-160b0b013e48",
   "metadata": {},
   "outputs": [
    {
     "data": {
      "text/plain": [
       "1     7.0\n",
       "2     9.0\n",
       "2    10.0\n",
       "4     8.0\n",
       "4     9.0\n",
       "5     4.0\n",
       "dtype: float64"
      ]
     },
     "execution_count": 29,
     "metadata": {},
     "output_type": "execute_result"
    }
   ],
   "source": [
    "(city_mpg+highway_mpg)/2\n",
    "\n",
    "series1 = pd.Series([1,2,3,4], index = [1,2,2,5]) ## lines up the indexes to add\n",
    "series2 = pd.Series([6,7,8,9], index = [1,2,4,4]) ## if one doesnt have an index it fills the empty spot with NaN unless fill_value is used\n",
    "\n",
    "series1.add(series2, fill_value = 0)"
   ]
  },
  {
   "cell_type": "markdown",
   "id": "9e4b8997-1bef-470c-9733-89c0fa653b02",
   "metadata": {},
   "source": [
    "## Aggregate Methods"
   ]
  },
  {
   "cell_type": "code",
   "execution_count": 30,
   "id": "f13f4bf0-1417-4fc0-9e66-ff68f403936f",
   "metadata": {},
   "outputs": [],
   "source": [
    "# aggregrate methods collapse the values of a series down to a scalar\n",
    "# ex: .mean, .sum, .count"
   ]
  },
  {
   "cell_type": "code",
   "execution_count": 32,
   "id": "7559ef15-0416-4544-a069-9c50c5d18fc6",
   "metadata": {},
   "outputs": [
    {
     "data": {
      "text/plain": [
       "18.91014982438981"
      ]
     },
     "execution_count": 32,
     "metadata": {},
     "output_type": "execute_result"
    }
   ],
   "source": [
    "city_mpg.mean()"
   ]
  },
  {
   "cell_type": "code",
   "execution_count": 35,
   "id": "cd32ff82-9f64-4cf7-925b-ec9d50ae1495",
   "metadata": {},
   "outputs": [
    {
     "data": {
      "text/plain": [
       "False"
      ]
     },
     "execution_count": 35,
     "metadata": {},
     "output_type": "execute_result"
    }
   ],
   "source": [
    "city_mpg.is_unique"
   ]
  },
  {
   "cell_type": "code",
   "execution_count": 38,
   "id": "0b6ade05-3e07-404c-9e6c-9c308b565cf9",
   "metadata": {},
   "outputs": [
    {
     "data": {
      "text/plain": [
       "False"
      ]
     },
     "execution_count": 38,
     "metadata": {},
     "output_type": "execute_result"
    }
   ],
   "source": [
    "city_mpg.is_monotonic_increasing"
   ]
  },
  {
   "cell_type": "code",
   "execution_count": 7,
   "id": "14e869a4-9013-4f11-9232-3592e7f4fb73",
   "metadata": {},
   "outputs": [
    {
     "data": {
      "text/plain": [
       "17.0"
      ]
     },
     "execution_count": 7,
     "metadata": {},
     "output_type": "execute_result"
    }
   ],
   "source": [
    "city_mpg.quantile(.5) ## return scalar or series "
   ]
  },
  {
   "cell_type": "code",
   "execution_count": 44,
   "id": "ec53f323-1271-47d1-ae0a-bfa219f11e50",
   "metadata": {},
   "outputs": [
    {
     "data": {
      "text/plain": [
       "0.5    17.0\n",
       "0.8    22.0\n",
       "0.9    25.0\n",
       "Name: city08, dtype: float64"
      ]
     },
     "execution_count": 44,
     "metadata": {},
     "output_type": "execute_result"
    }
   ],
   "source": [
    "city_mpg.quantile([.5, .8, .9])"
   ]
  },
  {
   "cell_type": "code",
   "execution_count": 46,
   "id": "0aec2a9b-8a8a-44b4-b328-7197e7e0670c",
   "metadata": {},
   "outputs": [
    {
     "data": {
      "text/plain": [
       "12079"
      ]
     },
     "execution_count": 46,
     "metadata": {},
     "output_type": "execute_result"
    }
   ],
   "source": [
    "(city_mpg # returns the sum of all the values that are greater than ( .gt ) 20.\n",
    " .gt(20)\n",
    " .sum())"
   ]
  },
  {
   "cell_type": "code",
   "execution_count": 55,
   "id": "a7cf8a25-36bf-4c6a-a848-a60008275b49",
   "metadata": {},
   "outputs": [
    {
     "data": {
      "text/plain": [
       "44986"
      ]
     },
     "execution_count": 55,
     "metadata": {},
     "output_type": "execute_result"
    }
   ],
   "source": [
    "city_mpg.count() # count returns count of non missing values"
   ]
  },
  {
   "cell_type": "code",
   "execution_count": 58,
   "id": "9bc9acbf-a97a-4386-8f10-e71b165546d2",
   "metadata": {},
   "outputs": [
    {
     "data": {
      "text/plain": [
       "44986"
      ]
     },
     "execution_count": 58,
     "metadata": {},
     "output_type": "execute_result"
    }
   ],
   "source": [
    "city_mpg.size # size returns count of all values even missing values"
   ]
  },
  {
   "cell_type": "code",
   "execution_count": 66,
   "id": "9b0f9b1e-7af0-4b17-a39d-2c90e4778330",
   "metadata": {},
   "outputs": [
    {
     "data": {
      "text/plain": [
       "130"
      ]
     },
     "execution_count": 66,
     "metadata": {},
     "output_type": "execute_result"
    }
   ],
   "source": [
    "(city_mpg\n",
    " .unique()\n",
    " .size)"
   ]
  },
  {
   "cell_type": "code",
   "execution_count": 68,
   "id": "0c0d29a6-8030-4944-a4d0-17da6ad30b3a",
   "metadata": {},
   "outputs": [
    {
     "data": {
      "text/plain": [
       "18.91014982438981"
      ]
     },
     "execution_count": 68,
     "metadata": {},
     "output_type": "execute_result"
    }
   ],
   "source": [
    "city_mpg.mean()"
   ]
  },
  {
   "cell_type": "code",
   "execution_count": 70,
   "id": "26692f1e-c2cb-4e14-a72b-226681975807",
   "metadata": {},
   "outputs": [
    {
     "data": {
      "text/plain": [
       "150"
      ]
     },
     "execution_count": 70,
     "metadata": {},
     "output_type": "execute_result"
    }
   ],
   "source": [
    "city_mpg.max()"
   ]
  },
  {
   "cell_type": "code",
   "execution_count": 87,
   "id": "4324936a-81d7-4f91-8a2c-23d167ed0273",
   "metadata": {},
   "outputs": [
    {
     "data": {
      "text/plain": [
       "mean          18.91015\n",
       "count      44986.00000\n",
       "size       44986.00000\n",
       "max          150.00000\n",
       "nunique      130.00000\n",
       "Name: city08, dtype: float64"
      ]
     },
     "execution_count": 87,
     "metadata": {},
     "output_type": "execute_result"
    }
   ],
   "source": [
    "city_mpg.agg(['mean', 'count', 'size', 'max', 'nunique'])"
   ]
  },
  {
   "cell_type": "markdown",
   "id": "7b0aada0-25ba-447a-9fdf-a56cdbb13315",
   "metadata": {},
   "source": [
    "## Conversion methods"
   ]
  },
  {
   "cell_type": "code",
   "execution_count": 88,
   "id": "24ab346e-a401-425d-a1be-9b422d41f7bf",
   "metadata": {},
   "outputs": [],
   "source": [
    "# converting to different data types for better performance, more manipulation, or less memory"
   ]
  },
  {
   "cell_type": "code",
   "execution_count": 95,
   "id": "3a9b7e07-cacb-4748-8148-967a5de2ef40",
   "metadata": {},
   "outputs": [
    {
     "data": {
      "text/plain": [
       "dtype('int64')"
      ]
     },
     "execution_count": 95,
     "metadata": {},
     "output_type": "execute_result"
    }
   ],
   "source": [
    "city_mpg.dtype # can be converted from in64 to int16 but not int8 bc int8 range is -127 to 127 -- some cars have mpg of 150"
   ]
  },
  {
   "cell_type": "code",
   "execution_count": 96,
   "id": "48c1261e-9bba-4cde-94ca-1d2be5d2a66c",
   "metadata": {},
   "outputs": [
    {
     "data": {
      "text/plain": [
       "359888"
      ]
     },
     "execution_count": 96,
     "metadata": {},
     "output_type": "execute_result"
    }
   ],
   "source": [
    "city_mpg.nbytes"
   ]
  },
  {
   "cell_type": "code",
   "execution_count": 99,
   "id": "495ca5fc-56d3-4cba-9b0d-b330568508d0",
   "metadata": {},
   "outputs": [
    {
     "data": {
      "text/plain": [
       "134958"
      ]
     },
     "execution_count": 99,
     "metadata": {},
     "output_type": "execute_result"
    }
   ],
   "source": [
    "city_mpg.astype('Int16').nbytes # 359888 to 134958 bytes"
   ]
  },
  {
   "cell_type": "code",
   "execution_count": 102,
   "id": "fab27098-c268-4f9e-8520-328fba87352c",
   "metadata": {},
   "outputs": [
    {
     "data": {
      "text/plain": [
       "359888"
      ]
     },
     "execution_count": 102,
     "metadata": {},
     "output_type": "execute_result"
    }
   ],
   "source": [
    "make = df.make # create a series from the make column\n",
    "make.nbytes # since the make column includes strings -- must use memory_usage(deep=True) to include strings"
   ]
  },
  {
   "cell_type": "code",
   "execution_count": 105,
   "id": "755e333d-5046-4e8a-87b9-0c8b81091d33",
   "metadata": {},
   "outputs": [
    {
     "data": {
      "text/plain": [
       "2849754"
      ]
     },
     "execution_count": 105,
     "metadata": {},
     "output_type": "execute_result"
    }
   ],
   "source": [
    "make.memory_usage(deep=True)"
   ]
  },
  {
   "cell_type": "code",
   "execution_count": 107,
   "id": "ac077715-e21c-44cb-ad49-3f0141370fda",
   "metadata": {},
   "outputs": [
    {
     "data": {
      "text/plain": [
       "103884"
      ]
     },
     "execution_count": 107,
     "metadata": {},
     "output_type": "execute_result"
    }
   ],
   "source": [
    "(make\n",
    " .astype('category') # making the make series have categorical data saves a lot more memory\n",
    " .memory_usage(deep=True)) "
   ]
  },
  {
   "cell_type": "markdown",
   "id": "c8b86bab-0711-4773-adea-69c2f6011b30",
   "metadata": {},
   "source": [
    "## Manipulation methods"
   ]
  },
  {
   "cell_type": "code",
   "execution_count": 110,
   "id": "01dd95c5-f7df-42a4-a5e9-f3e470eb0978",
   "metadata": {},
   "outputs": [
    {
     "data": {
      "text/plain": [
       "Chevrolet           4287\n",
       "Ford                3644\n",
       "GMC                 2686\n",
       "Dodge               2655\n",
       "Toyota              2260\n",
       "                    ... \n",
       "London Taxi            1\n",
       "Excalibur Autos        1\n",
       "ASC Incorporated       1\n",
       "Mahindra               1\n",
       "Qvale                  1\n",
       "Name: make, Length: 141, dtype: int64"
      ]
     },
     "execution_count": 110,
     "metadata": {},
     "output_type": "execute_result"
    }
   ],
   "source": [
    "make.value_counts()"
   ]
  },
  {
   "cell_type": "code",
   "execution_count": 113,
   "id": "14f77806-6054-401a-a00b-5dcfc3538fe7",
   "metadata": {},
   "outputs": [
    {
     "data": {
      "text/plain": [
       "0        Other\n",
       "1        Other\n",
       "2        Dodge\n",
       "3        Dodge\n",
       "4        Other\n",
       "         ...  \n",
       "44981    Other\n",
       "44982    Other\n",
       "44983    Other\n",
       "44984    Other\n",
       "44985    Other\n",
       "Name: make, Length: 44986, dtype: object"
      ]
     },
     "execution_count": 113,
     "metadata": {},
     "output_type": "execute_result"
    }
   ],
   "source": [
    "top5 = make.value_counts().index[:5] # only using the top makes in the series\n",
    "make.where(make.isin(top5), other='Other') # leaves the values that are in the top 5 and sets the rest to the other parameter"
   ]
  },
  {
   "cell_type": "code",
   "execution_count": null,
   "id": "d758752e-961b-4d71-b320-87fed7c73ead",
   "metadata": {},
   "outputs": [],
   "source": []
  }
 ],
 "metadata": {
  "kernelspec": {
   "display_name": "Python 3 (ipykernel)",
   "language": "python",
   "name": "python3"
  },
  "language_info": {
   "codemirror_mode": {
    "name": "ipython",
    "version": 3
   },
   "file_extension": ".py",
   "mimetype": "text/x-python",
   "name": "python",
   "nbconvert_exporter": "python",
   "pygments_lexer": "ipython3",
   "version": "3.9.7"
  }
 },
 "nbformat": 4,
 "nbformat_minor": 5
}
