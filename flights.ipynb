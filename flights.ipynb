{
 "cells": [
  {
   "cell_type": "code",
   "execution_count": 1,
   "id": "e6437ec8-7f45-4d0a-90f2-443677b5b378",
   "metadata": {},
   "outputs": [],
   "source": [
    "from pyspark.sql import SparkSession\n",
    "from pyspark.sql.types import *\n",
    "from pyspark.sql.functions import col\n",
    "\n",
    "spark = (SparkSession.builder.appName(\"Flights Summary\").getOrCreate())\n",
    "\n",
    "flights_csv = 'data/flights/flight-summary.csv'"
   ]
  },
  {
   "cell_type": "code",
   "execution_count": 2,
   "id": "949c6195-5a86-4361-9f29-5eea66b2879e",
   "metadata": {},
   "outputs": [],
   "source": [
    "'''\n",
    "flights_schema = StructType([\n",
    "    StructField('Order ID', StringType(), True),\n",
    "    StructField('Product', StringType(), True),\n",
    "    StructField('Quantity Ordered', StringType(), True),\n",
    "    StructField('Price Each', StringType(), True),\n",
    "    StructField('Order Date', StringType(), True),\n",
    "    StructField('Purchase Address', StringType(), True)\n",
    "])\n",
    "'''\n",
    "\n",
    "flights_df = (spark.read.format('csv')\n",
    "                .option('header', True)\n",
    "                .option('inferSchema', True)\n",
    "                .load(flights_csv))\n"
   ]
  },
  {
   "cell_type": "code",
   "execution_count": 3,
   "id": "a7cfe91c-7910-4dad-bc3f-4f5e1a14c933",
   "metadata": {},
   "outputs": [
    {
     "name": "stdout",
     "output_type": "stream",
     "text": [
      "+-----------+--------------------+---------------+------------+---------+--------------------+----------------+----------+------------+\n",
      "|origin_code|      origin_airport|    origin_city|origin_state|dest_code|        dest_airport|       dest_city|dest_state|flight_count|\n",
      "+-----------+--------------------+---------------+------------+---------+--------------------+----------------+----------+------------+\n",
      "|        BQN|Rafael Hernández ...|      Aguadilla|          PR|      MCO|Orlando Internati...|         Orlando|        FL|         441|\n",
      "|        PHL|Philadelphia Inte...|   Philadelphia|          PA|      MCO|Orlando Internati...|         Orlando|        FL|        4869|\n",
      "|        MCI|Kansas City Inter...|    Kansas City|          MO|      IAH|George Bush Inter...|         Houston|        TX|        1698|\n",
      "|        SPI|Abraham Lincoln C...|    Springfield|          IL|      ORD|Chicago O'Hare In...|         Chicago|        IL|         998|\n",
      "|        SNA|John Wayne Airpor...|      Santa Ana|          CA|      PHX|Phoenix Sky Harbo...|         Phoenix|        AZ|        3846|\n",
      "|        LBB|Lubbock Preston S...|        Lubbock|          TX|      DEN|Denver Internatio...|          Denver|        CO|         618|\n",
      "|        ORD|Chicago O'Hare In...|        Chicago|          IL|      PDX|Portland Internat...|        Portland|        OR|        2149|\n",
      "|        EWR|Newark Liberty In...|         Newark|          NJ|      STT|Cyril E. King Air...|Charlotte Amalie|        VI|         239|\n",
      "|        ATL|Hartsfield-Jackso...|        Atlanta|          GA|      GSP|Greenville-Sparta...|           Greer|        SC|        2470|\n",
      "|        MCI|Kansas City Inter...|    Kansas City|          MO|      MKE|General Mitchell ...|       Milwaukee|        WI|         612|\n",
      "|        PBI|Palm Beach Intern...|West Palm Beach|          FL|      DCA|Ronald Reagan Was...|       Arlington|        VA|         978|\n",
      "|        SMF|Sacramento Intern...|     Sacramento|          CA|      BUR|Bob Hope Airport ...|         Burbank|        CA|        2092|\n",
      "|        MDW|Chicago Midway In...|        Chicago|          IL|      MEM|Memphis Internati...|         Memphis|        TN|         628|\n",
      "|        LAS|McCarran Internat...|      Las Vegas|          NV|      LIT|Bill and Hillary ...|     Little Rock|        AR|         334|\n",
      "|        TPA|Tampa Internation...|          Tampa|          FL|      ACY|Atlantic City Int...|   Atlantic City|        NJ|         335|\n",
      "|        DSM|Des Moines Intern...|     Des Moines|          IA|      EWR|Newark Liberty In...|          Newark|        NJ|         191|\n",
      "|        FSD|Sioux Falls Regio...|    Sioux Falls|          SD|      ATL|Hartsfield-Jackso...|         Atlanta|        GA|         329|\n",
      "|        SJC|Norman Y. Mineta ...|       San Jose|          CA|      LIH|       Lihue Airport|           Lihue|        HI|         190|\n",
      "|        CLE|Cleveland Hopkins...|      Cleveland|          OH|      SJU|Luis Muñoz Marín ...|        San Juan|        PR|          43|\n",
      "|        CPR|Natrona County In...|         Casper|          WY|      DEN|Denver Internatio...|          Denver|        CO|         956|\n",
      "+-----------+--------------------+---------------+------------+---------+--------------------+----------------+----------+------------+\n",
      "only showing top 20 rows\n",
      "\n"
     ]
    }
   ],
   "source": [
    "flights_df = flights_df.withColumnRenamed('count', 'flight_count')\n",
    "\n",
    "flights_df.show()"
   ]
  },
  {
   "cell_type": "markdown",
   "id": "c94337ef-521d-47b3-9cbb-8232a88eeb21",
   "metadata": {},
   "source": [
    "## min(col), max(col) sum distinct(col) and avg"
   ]
  },
  {
   "cell_type": "code",
   "execution_count": 4,
   "id": "fe7d6661-64b7-4def-9968-fee80c3568c0",
   "metadata": {},
   "outputs": [
    {
     "name": "stdout",
     "output_type": "stream",
     "text": [
      "+-----------------+-----------------+\n",
      "|min(flight_count)|max(flight_count)|\n",
      "+-----------------+-----------------+\n",
      "|                1|            13744|\n",
      "+-----------------+-----------------+\n",
      "\n"
     ]
    }
   ],
   "source": [
    "from pyspark.sql.functions import min, max, sum, sumDistinct, avg\n",
    "\n",
    "flights_df.select(min('flight_count'), max('flight_count')).show()"
   ]
  },
  {
   "cell_type": "code",
   "execution_count": 5,
   "id": "d480cc35-91f5-42c2-8bf8-587112cccf13",
   "metadata": {},
   "outputs": [
    {
     "name": "stdout",
     "output_type": "stream",
     "text": [
      "+-----------------+\n",
      "|sum(flight_count)|\n",
      "+-----------------+\n",
      "|          5332914|\n",
      "+-----------------+\n",
      "\n"
     ]
    }
   ],
   "source": [
    "flights_df.select(sum('flight_count')).show()"
   ]
  },
  {
   "cell_type": "code",
   "execution_count": 6,
   "id": "ac257f86-9604-4178-8a98-e7b50a6a8530",
   "metadata": {},
   "outputs": [
    {
     "name": "stdout",
     "output_type": "stream",
     "text": [
      "+--------------------------+\n",
      "|(sum(flight_count) / 4693)|\n",
      "+--------------------------+\n",
      "|        1136.3549968037503|\n",
      "+--------------------------+\n",
      "\n"
     ]
    }
   ],
   "source": [
    "flights_df.select(sum('flight_count') / flights_df.count()).show()"
   ]
  },
  {
   "cell_type": "markdown",
   "id": "985e826d-bc21-453d-94dd-23c14c2c2063",
   "metadata": {},
   "source": [
    "## Aggregation and grouping"
   ]
  },
  {
   "cell_type": "code",
   "execution_count": 7,
   "id": "efc47f78-46c3-4f46-9dd7-a9d8c33f8124",
   "metadata": {},
   "outputs": [
    {
     "name": "stdout",
     "output_type": "stream",
     "text": [
      "+--------------------+-----+\n",
      "|      origin_airport|count|\n",
      "+--------------------+-----+\n",
      "|Hartsfield-Jackso...|  169|\n",
      "|Chicago O'Hare In...|  162|\n",
      "|Dallas/Fort Worth...|  148|\n",
      "|Denver Internatio...|  139|\n",
      "|Minneapolis-Saint...|  120|\n",
      "|George Bush Inter...|  119|\n",
      "|Detroit Metropoli...|  112|\n",
      "|Salt Lake City In...|   89|\n",
      "|Newark Liberty In...|   88|\n",
      "|Los Angeles Inter...|   80|\n",
      "|San Francisco Int...|   80|\n",
      "|Phoenix Sky Harbo...|   79|\n",
      "|McCarran Internat...|   78|\n",
      "|Orlando Internati...|   74|\n",
      "|Seattle-Tacoma In...|   73|\n",
      "|Washington Dulles...|   71|\n",
      "|LaGuardia Airport...|   69|\n",
      "|Chicago Midway In...|   69|\n",
      "|Charlotte Douglas...|   69|\n",
      "|Baltimore-Washing...|   67|\n",
      "+--------------------+-----+\n",
      "only showing top 20 rows\n",
      "\n"
     ]
    }
   ],
   "source": [
    "flights_df.groupBy('origin_airport').count().orderBy('count', ascending=False).show()"
   ]
  },
  {
   "cell_type": "code",
   "execution_count": 8,
   "id": "0477bb4b-1d4c-4c75-9fa7-40ac46a4b4d8",
   "metadata": {},
   "outputs": [
    {
     "name": "stdout",
     "output_type": "stream",
     "text": [
      "+----------------------------------------------------------------------+----------------+\n",
      "|origin_airport                                                        |max_flight_count|\n",
      "+----------------------------------------------------------------------+----------------+\n",
      "|San Francisco International Airport                                   |13744           |\n",
      "|Los Angeles International Airport                                     |13457           |\n",
      "|John F. Kennedy International Airport (New York International Airport)|12016           |\n",
      "|McCarran International Airport                                        |9715            |\n",
      "|LaGuardia Airport (Marine Air Terminal)                               |9639            |\n",
      "+----------------------------------------------------------------------+----------------+\n",
      "only showing top 5 rows\n",
      "\n"
     ]
    }
   ],
   "source": [
    "(flights_df.groupBy('origin_airport')\n",
    "            .agg(max('flight_count').alias('max_flight_count'))\n",
    "            .orderBy('max_flight_count', ascending=False).show(5, False))"
   ]
  },
  {
   "cell_type": "code",
   "execution_count": 19,
   "id": "99d213fa-5831-4e34-9569-194c898cd65b",
   "metadata": {},
   "outputs": [
    {
     "name": "stdout",
     "output_type": "stream",
     "text": [
      "+-----------+-----------------+------------+\n",
      "|origin_city|        dest_city|flight_count|\n",
      "+-----------+-----------------+------------+\n",
      "|  Aguadilla|          Orlando|         441|\n",
      "|   San Juan|          Detroit|          25|\n",
      "|   San Juan| Charlotte Amalie|         668|\n",
      "|  Aguadilla|   Ft. Lauderdale|         164|\n",
      "|   San Juan|    Windsor Locks|         456|\n",
      "|   San Juan|          Orlando|        3552|\n",
      "|   San Juan|          Chicago|        1022|\n",
      "|   San Juan|            Tampa|        1090|\n",
      "|   San Juan|   Ft. Lauderdale|        2791|\n",
      "|   San Juan|        Charlotte|         713|\n",
      "|   San Juan|        Cleveland|          43|\n",
      "|  Aguadilla|           Newark|         291|\n",
      "|   San Juan|        Baltimore|         621|\n",
      "|   San Juan|          Houston|          38|\n",
      "|   San Juan|           Newark|        1195|\n",
      "|  Aguadilla|         New York|         447|\n",
      "|   San Juan|         New York|        4466|\n",
      "|      Ponce|         New York|         333|\n",
      "|   San Juan|Dallas-Fort Worth|         588|\n",
      "|   San Juan|    Christiansted|         334|\n",
      "|   San Juan|            Miami|        2436|\n",
      "|   San Juan|        Chantilly|         170|\n",
      "|   San Juan|     Philadelphia|        1026|\n",
      "|   San Juan|      Minneapolis|          46|\n",
      "|      Ponce|          Orlando|         416|\n",
      "|   San Juan|        Arlington|         334|\n",
      "|   San Juan|          Houston|         525|\n",
      "|   San Juan|           Boston|        1097|\n",
      "|   San Juan|          Atlanta|        1420|\n",
      "+-----------+-----------------+------------+\n",
      "\n"
     ]
    }
   ],
   "source": [
    "flights_df.select('origin_airport', 'flight_count').where(col('origin_airport') == 'San Francisco International Airport')\n",
    "flights_df.select('origin_city','dest_city', 'flight_count').where(col('origin_state') == 'PR').show(50) "
   ]
  },
  {
   "cell_type": "code",
   "execution_count": 34,
   "id": "15009672-c5ad-479d-94b3-1f25ae0c64fa",
   "metadata": {},
   "outputs": [
    {
     "data": {
      "text/plain": [
       "DataFrame[origin_state: string, origin_city: string, count: bigint]"
      ]
     },
     "execution_count": 34,
     "metadata": {},
     "output_type": "execute_result"
    }
   ],
   "source": [
    "(flights_df.groupBy('origin_state', 'origin_city').count().where(col('origin_state') == 'PR').orderBy('count', ascending=False))\n",
    "\n"
   ]
  }
 ],
 "metadata": {
  "kernelspec": {
   "display_name": "Python 3 (ipykernel)",
   "language": "python",
   "name": "python3"
  },
  "language_info": {
   "codemirror_mode": {
    "name": "ipython",
    "version": 3
   },
   "file_extension": ".py",
   "mimetype": "text/x-python",
   "name": "python",
   "nbconvert_exporter": "python",
   "pygments_lexer": "ipython3",
   "version": "3.9.7"
  }
 },
 "nbformat": 4,
 "nbformat_minor": 5
}
